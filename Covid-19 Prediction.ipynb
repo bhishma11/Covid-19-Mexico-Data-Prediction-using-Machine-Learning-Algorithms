{
 "cells": [
  {
   "cell_type": "markdown",
   "id": "cace5c24",
   "metadata": {
    "id": "cace5c24"
   },
   "source": [
    "# Importing Python Packages"
   ]
  },
  {
   "cell_type": "code",
   "execution_count": 1,
   "id": "8b631c31",
   "metadata": {
    "id": "8b631c31"
   },
   "outputs": [],
   "source": [
    "import csv\n",
    "import pandas as pd\n",
    "import numpy as np\n",
    "import matplotlib.pyplot as plt\n",
    "import seaborn as sns\n",
    "\n",
    "%matplotlib inline\n",
    "\n",
    "import warnings\n",
    "warnings.filterwarnings('ignore')"
   ]
  },
  {
   "cell_type": "markdown",
   "id": "8b57053e",
   "metadata": {
    "id": "8b57053e"
   },
   "source": [
    "# Loaded Dataset & Checking its information"
   ]
  },
  {
   "cell_type": "code",
   "execution_count": 2,
   "id": "76c1cf60",
   "metadata": {
    "id": "76c1cf60"
   },
   "outputs": [],
   "source": [
    "# Import mexico covid 19 Data Set\n",
    "df = pd.read_csv(r\"\\Users\\khett\\Desktop\\mexico_covid19.csv\")"
   ]
  },
  {
   "cell_type": "code",
   "execution_count": 3,
   "id": "a53dcdbe",
   "metadata": {
    "colab": {
     "base_uri": "https://localhost:8080/"
    },
    "id": "a53dcdbe",
    "outputId": "213aeaf7-e85b-47e1-990a-05f5774e4182"
   },
   "outputs": [
    {
     "data": {
      "text/plain": [
       "Index(['Age', 'Sex', 'Pneumonia', 'Diabetes', 'Ashma', 'Hypertension', 'CVDs',\n",
       "       'Obesity', 'CKDs', 'Tabacco', 'Result'],\n",
       "      dtype='object')"
      ]
     },
     "execution_count": 3,
     "metadata": {},
     "output_type": "execute_result"
    }
   ],
   "source": [
    "df.columns #Show all the columns inside mexico dataset"
   ]
  },
  {
   "cell_type": "code",
   "execution_count": 4,
   "id": "7983e15a",
   "metadata": {
    "colab": {
     "base_uri": "https://localhost:8080/"
    },
    "id": "7983e15a",
    "outputId": "8fb302a8-1f36-4ab5-ea80-183afa5efa19"
   },
   "outputs": [
    {
     "name": "stdout",
     "output_type": "stream",
     "text": [
      "<class 'pandas.core.frame.DataFrame'>\n",
      "RangeIndex: 1048575 entries, 0 to 1048574\n",
      "Data columns (total 11 columns):\n",
      " #   Column        Non-Null Count   Dtype  \n",
      "---  ------        --------------   -----  \n",
      " 0   Age           263007 non-null  float64\n",
      " 1   Sex           263007 non-null  float64\n",
      " 2   Pneumonia     263008 non-null  object \n",
      " 3   Diabetes      263007 non-null  float64\n",
      " 4   Ashma         263007 non-null  float64\n",
      " 5   Hypertension  263007 non-null  float64\n",
      " 6   CVDs          263007 non-null  float64\n",
      " 7   Obesity       263007 non-null  float64\n",
      " 8   CKDs          263007 non-null  float64\n",
      " 9   Tabacco       263007 non-null  float64\n",
      " 10  Result        263007 non-null  float64\n",
      "dtypes: float64(10), object(1)\n",
      "memory usage: 88.0+ MB\n"
     ]
    }
   ],
   "source": [
    "df.info() #Show dta types of all the columns"
   ]
  },
  {
   "cell_type": "markdown",
   "id": "62073cd4",
   "metadata": {
    "id": "62073cd4"
   },
   "source": [
    "# Cleaning Dataset"
   ]
  },
  {
   "cell_type": "code",
   "execution_count": 5,
   "id": "c86e2619",
   "metadata": {
    "id": "c86e2619"
   },
   "outputs": [],
   "source": [
    "cols = ['Age','Sex', 'Pneumonia', 'Diabetes', 'Ashma', 'Hypertension', 'CVDs',\n",
    "       'Obesity', 'CKDs', 'Tabacco', 'Result'] #Since the selected columns need to have 0 and 1 value "
   ]
  },
  {
   "cell_type": "code",
   "execution_count": 6,
   "id": "1b37523b",
   "metadata": {
    "id": "1b37523b"
   },
   "outputs": [],
   "source": [
    "df=df.dropna() #Dropped empty row"
   ]
  },
  {
   "cell_type": "code",
   "execution_count": 7,
   "id": "2e5ae2c5",
   "metadata": {
    "id": "2e5ae2c5"
   },
   "outputs": [],
   "source": [
    "df[cols] = df[cols].astype('Int64')"
   ]
  },
  {
   "cell_type": "code",
   "execution_count": 8,
   "id": "c14889f3",
   "metadata": {
    "colab": {
     "base_uri": "https://localhost:8080/"
    },
    "id": "c14889f3",
    "outputId": "1e278250-b7a7-4f8e-bf9a-17e5d25a562c"
   },
   "outputs": [
    {
     "data": {
      "text/plain": [
       "(263007, 11)"
      ]
     },
     "execution_count": 8,
     "metadata": {},
     "output_type": "execute_result"
    }
   ],
   "source": [
    "df.shape"
   ]
  },
  {
   "cell_type": "code",
   "execution_count": 9,
   "id": "26dad160",
   "metadata": {
    "colab": {
     "base_uri": "https://localhost:8080/",
     "height": 204
    },
    "id": "26dad160",
    "outputId": "dec7cd22-761c-4bdc-e15e-741663930048"
   },
   "outputs": [
    {
     "data": {
      "text/html": [
       "<div>\n",
       "<style scoped>\n",
       "    .dataframe tbody tr th:only-of-type {\n",
       "        vertical-align: middle;\n",
       "    }\n",
       "\n",
       "    .dataframe tbody tr th {\n",
       "        vertical-align: top;\n",
       "    }\n",
       "\n",
       "    .dataframe thead th {\n",
       "        text-align: right;\n",
       "    }\n",
       "</style>\n",
       "<table border=\"1\" class=\"dataframe\">\n",
       "  <thead>\n",
       "    <tr style=\"text-align: right;\">\n",
       "      <th></th>\n",
       "      <th>Age</th>\n",
       "      <th>Sex</th>\n",
       "      <th>Pneumonia</th>\n",
       "      <th>Diabetes</th>\n",
       "      <th>Ashma</th>\n",
       "      <th>Hypertension</th>\n",
       "      <th>CVDs</th>\n",
       "      <th>Obesity</th>\n",
       "      <th>CKDs</th>\n",
       "      <th>Tabacco</th>\n",
       "      <th>Result</th>\n",
       "    </tr>\n",
       "  </thead>\n",
       "  <tbody>\n",
       "    <tr>\n",
       "      <th>0</th>\n",
       "      <td>74</td>\n",
       "      <td>0</td>\n",
       "      <td>0</td>\n",
       "      <td>1</td>\n",
       "      <td>0</td>\n",
       "      <td>1</td>\n",
       "      <td>0</td>\n",
       "      <td>1</td>\n",
       "      <td>0</td>\n",
       "      <td>0</td>\n",
       "      <td>0</td>\n",
       "    </tr>\n",
       "    <tr>\n",
       "      <th>1</th>\n",
       "      <td>71</td>\n",
       "      <td>1</td>\n",
       "      <td>0</td>\n",
       "      <td>1</td>\n",
       "      <td>0</td>\n",
       "      <td>1</td>\n",
       "      <td>0</td>\n",
       "      <td>1</td>\n",
       "      <td>0</td>\n",
       "      <td>1</td>\n",
       "      <td>0</td>\n",
       "    </tr>\n",
       "    <tr>\n",
       "      <th>2</th>\n",
       "      <td>50</td>\n",
       "      <td>0</td>\n",
       "      <td>1</td>\n",
       "      <td>0</td>\n",
       "      <td>0</td>\n",
       "      <td>0</td>\n",
       "      <td>0</td>\n",
       "      <td>0</td>\n",
       "      <td>0</td>\n",
       "      <td>0</td>\n",
       "      <td>1</td>\n",
       "    </tr>\n",
       "    <tr>\n",
       "      <th>3</th>\n",
       "      <td>25</td>\n",
       "      <td>1</td>\n",
       "      <td>0</td>\n",
       "      <td>0</td>\n",
       "      <td>0</td>\n",
       "      <td>0</td>\n",
       "      <td>0</td>\n",
       "      <td>1</td>\n",
       "      <td>0</td>\n",
       "      <td>0</td>\n",
       "      <td>1</td>\n",
       "    </tr>\n",
       "    <tr>\n",
       "      <th>4</th>\n",
       "      <td>28</td>\n",
       "      <td>1</td>\n",
       "      <td>0</td>\n",
       "      <td>0</td>\n",
       "      <td>0</td>\n",
       "      <td>0</td>\n",
       "      <td>0</td>\n",
       "      <td>0</td>\n",
       "      <td>0</td>\n",
       "      <td>0</td>\n",
       "      <td>0</td>\n",
       "    </tr>\n",
       "  </tbody>\n",
       "</table>\n",
       "</div>"
      ],
      "text/plain": [
       "   Age  Sex  Pneumonia  Diabetes  Ashma  Hypertension  CVDs  Obesity  CKDs  \\\n",
       "0   74    0          0         1      0             1     0        1     0   \n",
       "1   71    1          0         1      0             1     0        1     0   \n",
       "2   50    0          1         0      0             0     0        0     0   \n",
       "3   25    1          0         0      0             0     0        1     0   \n",
       "4   28    1          0         0      0             0     0        0     0   \n",
       "\n",
       "   Tabacco  Result  \n",
       "0        0       0  \n",
       "1        1       0  \n",
       "2        0       1  \n",
       "3        0       1  \n",
       "4        0       0  "
      ]
     },
     "execution_count": 9,
     "metadata": {},
     "output_type": "execute_result"
    }
   ],
   "source": [
    "df.head(5)"
   ]
  },
  {
   "cell_type": "code",
   "execution_count": 10,
   "id": "048aa769",
   "metadata": {
    "colab": {
     "base_uri": "https://localhost:8080/",
     "height": 297
    },
    "id": "048aa769",
    "outputId": "7492b002-739d-492e-d1b5-2778df31c0f7",
    "scrolled": false
   },
   "outputs": [
    {
     "data": {
      "text/html": [
       "<div>\n",
       "<style scoped>\n",
       "    .dataframe tbody tr th:only-of-type {\n",
       "        vertical-align: middle;\n",
       "    }\n",
       "\n",
       "    .dataframe tbody tr th {\n",
       "        vertical-align: top;\n",
       "    }\n",
       "\n",
       "    .dataframe thead th {\n",
       "        text-align: right;\n",
       "    }\n",
       "</style>\n",
       "<table border=\"1\" class=\"dataframe\">\n",
       "  <thead>\n",
       "    <tr style=\"text-align: right;\">\n",
       "      <th></th>\n",
       "      <th>Age</th>\n",
       "      <th>Sex</th>\n",
       "      <th>Pneumonia</th>\n",
       "      <th>Diabetes</th>\n",
       "      <th>Ashma</th>\n",
       "      <th>Hypertension</th>\n",
       "      <th>CVDs</th>\n",
       "      <th>Obesity</th>\n",
       "      <th>CKDs</th>\n",
       "      <th>Tabacco</th>\n",
       "      <th>Result</th>\n",
       "    </tr>\n",
       "  </thead>\n",
       "  <tbody>\n",
       "    <tr>\n",
       "      <th>count</th>\n",
       "      <td>263007.000000</td>\n",
       "      <td>263007.000000</td>\n",
       "      <td>263007.000000</td>\n",
       "      <td>263007.000000</td>\n",
       "      <td>263007.000000</td>\n",
       "      <td>263007.000000</td>\n",
       "      <td>263007.000000</td>\n",
       "      <td>263007.000000</td>\n",
       "      <td>263007.000000</td>\n",
       "      <td>263007.000000</td>\n",
       "      <td>263007.000000</td>\n",
       "    </tr>\n",
       "    <tr>\n",
       "      <th>mean</th>\n",
       "      <td>42.591627</td>\n",
       "      <td>0.489318</td>\n",
       "      <td>0.167440</td>\n",
       "      <td>0.506025</td>\n",
       "      <td>0.380115</td>\n",
       "      <td>0.517705</td>\n",
       "      <td>0.383876</td>\n",
       "      <td>0.524830</td>\n",
       "      <td>0.370922</td>\n",
       "      <td>0.456129</td>\n",
       "      <td>0.390328</td>\n",
       "    </tr>\n",
       "    <tr>\n",
       "      <th>std</th>\n",
       "      <td>16.903824</td>\n",
       "      <td>0.499887</td>\n",
       "      <td>0.809845</td>\n",
       "      <td>6.065576</td>\n",
       "      <td>5.796225</td>\n",
       "      <td>5.844009</td>\n",
       "      <td>5.913592</td>\n",
       "      <td>5.917735</td>\n",
       "      <td>5.839516</td>\n",
       "      <td>5.978390</td>\n",
       "      <td>0.487825</td>\n",
       "    </tr>\n",
       "    <tr>\n",
       "      <th>min</th>\n",
       "      <td>0.000000</td>\n",
       "      <td>0.000000</td>\n",
       "      <td>0.000000</td>\n",
       "      <td>0.000000</td>\n",
       "      <td>0.000000</td>\n",
       "      <td>0.000000</td>\n",
       "      <td>0.000000</td>\n",
       "      <td>0.000000</td>\n",
       "      <td>0.000000</td>\n",
       "      <td>0.000000</td>\n",
       "      <td>0.000000</td>\n",
       "    </tr>\n",
       "    <tr>\n",
       "      <th>25%</th>\n",
       "      <td>31.000000</td>\n",
       "      <td>0.000000</td>\n",
       "      <td>0.000000</td>\n",
       "      <td>0.000000</td>\n",
       "      <td>0.000000</td>\n",
       "      <td>0.000000</td>\n",
       "      <td>0.000000</td>\n",
       "      <td>0.000000</td>\n",
       "      <td>0.000000</td>\n",
       "      <td>0.000000</td>\n",
       "      <td>0.000000</td>\n",
       "    </tr>\n",
       "    <tr>\n",
       "      <th>50%</th>\n",
       "      <td>41.000000</td>\n",
       "      <td>0.000000</td>\n",
       "      <td>0.000000</td>\n",
       "      <td>0.000000</td>\n",
       "      <td>0.000000</td>\n",
       "      <td>0.000000</td>\n",
       "      <td>0.000000</td>\n",
       "      <td>0.000000</td>\n",
       "      <td>0.000000</td>\n",
       "      <td>0.000000</td>\n",
       "      <td>0.000000</td>\n",
       "    </tr>\n",
       "    <tr>\n",
       "      <th>75%</th>\n",
       "      <td>53.000000</td>\n",
       "      <td>1.000000</td>\n",
       "      <td>0.000000</td>\n",
       "      <td>0.000000</td>\n",
       "      <td>0.000000</td>\n",
       "      <td>0.000000</td>\n",
       "      <td>0.000000</td>\n",
       "      <td>0.000000</td>\n",
       "      <td>0.000000</td>\n",
       "      <td>0.000000</td>\n",
       "      <td>1.000000</td>\n",
       "    </tr>\n",
       "    <tr>\n",
       "      <th>max</th>\n",
       "      <td>120.000000</td>\n",
       "      <td>1.000000</td>\n",
       "      <td>99.000000</td>\n",
       "      <td>98.000000</td>\n",
       "      <td>98.000000</td>\n",
       "      <td>98.000000</td>\n",
       "      <td>98.000000</td>\n",
       "      <td>98.000000</td>\n",
       "      <td>98.000000</td>\n",
       "      <td>98.000000</td>\n",
       "      <td>1.000000</td>\n",
       "    </tr>\n",
       "  </tbody>\n",
       "</table>\n",
       "</div>"
      ],
      "text/plain": [
       "                 Age            Sex      Pneumonia       Diabetes  \\\n",
       "count  263007.000000  263007.000000  263007.000000  263007.000000   \n",
       "mean       42.591627       0.489318       0.167440       0.506025   \n",
       "std        16.903824       0.499887       0.809845       6.065576   \n",
       "min         0.000000       0.000000       0.000000       0.000000   \n",
       "25%        31.000000       0.000000       0.000000       0.000000   \n",
       "50%        41.000000       0.000000       0.000000       0.000000   \n",
       "75%        53.000000       1.000000       0.000000       0.000000   \n",
       "max       120.000000       1.000000      99.000000      98.000000   \n",
       "\n",
       "               Ashma   Hypertension           CVDs        Obesity  \\\n",
       "count  263007.000000  263007.000000  263007.000000  263007.000000   \n",
       "mean        0.380115       0.517705       0.383876       0.524830   \n",
       "std         5.796225       5.844009       5.913592       5.917735   \n",
       "min         0.000000       0.000000       0.000000       0.000000   \n",
       "25%         0.000000       0.000000       0.000000       0.000000   \n",
       "50%         0.000000       0.000000       0.000000       0.000000   \n",
       "75%         0.000000       0.000000       0.000000       0.000000   \n",
       "max        98.000000      98.000000      98.000000      98.000000   \n",
       "\n",
       "                CKDs        Tabacco         Result  \n",
       "count  263007.000000  263007.000000  263007.000000  \n",
       "mean        0.370922       0.456129       0.390328  \n",
       "std         5.839516       5.978390       0.487825  \n",
       "min         0.000000       0.000000       0.000000  \n",
       "25%         0.000000       0.000000       0.000000  \n",
       "50%         0.000000       0.000000       0.000000  \n",
       "75%         0.000000       0.000000       1.000000  \n",
       "max        98.000000      98.000000       1.000000  "
      ]
     },
     "execution_count": 10,
     "metadata": {},
     "output_type": "execute_result"
    }
   ],
   "source": [
    "df.describe()"
   ]
  },
  {
   "cell_type": "code",
   "execution_count": 11,
   "id": "ab2c53a4",
   "metadata": {
    "colab": {
     "base_uri": "https://localhost:8080/"
    },
    "id": "ab2c53a4",
    "outputId": "b669a304-080c-4062-bf3c-1e1a4c7d65fa"
   },
   "outputs": [
    {
     "name": "stdout",
     "output_type": "stream",
     "text": [
      "<class 'pandas.core.frame.DataFrame'>\n",
      "Int64Index: 263007 entries, 0 to 263006\n",
      "Data columns (total 11 columns):\n",
      " #   Column        Non-Null Count   Dtype\n",
      "---  ------        --------------   -----\n",
      " 0   Age           263007 non-null  Int64\n",
      " 1   Sex           263007 non-null  Int64\n",
      " 2   Pneumonia     263007 non-null  Int64\n",
      " 3   Diabetes      263007 non-null  Int64\n",
      " 4   Ashma         263007 non-null  Int64\n",
      " 5   Hypertension  263007 non-null  Int64\n",
      " 6   CVDs          263007 non-null  Int64\n",
      " 7   Obesity       263007 non-null  Int64\n",
      " 8   CKDs          263007 non-null  Int64\n",
      " 9   Tabacco       263007 non-null  Int64\n",
      " 10  Result        263007 non-null  Int64\n",
      "dtypes: Int64(11)\n",
      "memory usage: 26.8 MB\n"
     ]
    }
   ],
   "source": [
    "df.info()"
   ]
  },
  {
   "cell_type": "code",
   "execution_count": 12,
   "id": "ae0cc1fa",
   "metadata": {
    "colab": {
     "base_uri": "https://localhost:8080/"
    },
    "id": "ae0cc1fa",
    "outputId": "e94f3882-70ef-4d96-e558-a29e03a1140c"
   },
   "outputs": [
    {
     "data": {
      "text/plain": [
       "<IntegerArray>\n",
       "[ 74,  71,  50,  25,  28,  67,  44,  62,  30,  32,\n",
       " ...\n",
       " 120, 105, 103, 114, 108, 106, 111, 104, 118, 115]\n",
       "Length: 117, dtype: Int64"
      ]
     },
     "execution_count": 12,
     "metadata": {},
     "output_type": "execute_result"
    }
   ],
   "source": [
    "df.Age.unique()"
   ]
  },
  {
   "cell_type": "code",
   "execution_count": 13,
   "id": "696f2286",
   "metadata": {
    "colab": {
     "base_uri": "https://localhost:8080/"
    },
    "id": "696f2286",
    "outputId": "6caf7d6d-597d-47a4-db63-d2a478aa640c"
   },
   "outputs": [
    {
     "data": {
      "text/plain": [
       "Age             [74, 71, 50, 25, 28, 67, 44, 62, 30, 32, 53, 3...\n",
       "Sex                                                        [0, 1]\n",
       "Pneumonia                                              [0, 1, 99]\n",
       "Diabetes                                               [1, 0, 98]\n",
       "Ashma                                                  [0, 1, 98]\n",
       "Hypertension                                           [1, 0, 98]\n",
       "CVDs                                                   [0, 1, 98]\n",
       "Obesity                                                [1, 0, 98]\n",
       "CKDs                                                   [0, 1, 98]\n",
       "Tabacco                                                [0, 1, 98]\n",
       "Result                                                     [0, 1]\n",
       "dtype: object"
      ]
     },
     "execution_count": 13,
     "metadata": {},
     "output_type": "execute_result"
    }
   ],
   "source": [
    "pd.Series({c: df[c].unique() for c in df}) #Checking unique value in all the columns"
   ]
  },
  {
   "cell_type": "code",
   "execution_count": 14,
   "id": "a02c2b9c",
   "metadata": {
    "id": "a02c2b9c"
   },
   "outputs": [],
   "source": [
    "df = df.drop(df[df.Pneumonia > 2].index) #Dropping row which has value other than 1 & 0\n",
    "df = df.drop(df[df.Diabetes > 2].index)\n",
    "df = df.drop(df[df.Ashma > 2].index)\n",
    "df = df.drop(df[df.Hypertension > 2].index)\n",
    "df = df.drop(df[df.CVDs > 2].index)\n",
    "df = df.drop(df[df.Obesity > 2].index)\n",
    "df = df.drop(df[df.CKDs > 2].index)\n",
    "df = df.drop(df[df.Tabacco > 2].index)"
   ]
  },
  {
   "cell_type": "code",
   "execution_count": 15,
   "id": "4412b4d8",
   "metadata": {
    "colab": {
     "base_uri": "https://localhost:8080/"
    },
    "id": "4412b4d8",
    "outputId": "fa431041-11fd-4584-8dea-391a646b2a69"
   },
   "outputs": [
    {
     "data": {
      "text/plain": [
       "Age             [74, 71, 50, 25, 28, 67, 44, 62, 30, 32, 53, 3...\n",
       "Sex                                                        [0, 1]\n",
       "Pneumonia                                                  [0, 1]\n",
       "Diabetes                                                   [1, 0]\n",
       "Ashma                                                      [0, 1]\n",
       "Hypertension                                               [1, 0]\n",
       "CVDs                                                       [0, 1]\n",
       "Obesity                                                    [1, 0]\n",
       "CKDs                                                       [0, 1]\n",
       "Tabacco                                                    [0, 1]\n",
       "Result                                                     [0, 1]\n",
       "dtype: object"
      ]
     },
     "execution_count": 15,
     "metadata": {},
     "output_type": "execute_result"
    }
   ],
   "source": [
    "# all commlumns has been changed to integer and removed invalid values on specific columns\n",
    "pd.Series({c: df[c].unique() for c in df}) "
   ]
  },
  {
   "cell_type": "code",
   "execution_count": 16,
   "id": "706e760d",
   "metadata": {
    "colab": {
     "base_uri": "https://localhost:8080/"
    },
    "id": "706e760d",
    "outputId": "147099df-9e00-4799-a195-e8d6a310a19d"
   },
   "outputs": [
    {
     "data": {
      "text/plain": [
       "count    261409.000000\n",
       "mean          0.389233\n",
       "std           0.487577\n",
       "min           0.000000\n",
       "25%           0.000000\n",
       "50%           0.000000\n",
       "75%           1.000000\n",
       "max           1.000000\n",
       "Name: Result, dtype: float64"
      ]
     },
     "execution_count": 16,
     "metadata": {},
     "output_type": "execute_result"
    }
   ],
   "source": [
    "df[\"Result\"].describe()"
   ]
  },
  {
   "cell_type": "code",
   "execution_count": 17,
   "id": "c28d152f",
   "metadata": {
    "colab": {
     "base_uri": "https://localhost:8080/"
    },
    "id": "c28d152f",
    "outputId": "37c98b1c-68e9-4b7d-d3d9-a52be8e2709e"
   },
   "outputs": [
    {
     "data": {
      "text/plain": [
       "<IntegerArray>\n",
       "[0, 1]\n",
       "Length: 2, dtype: Int64"
      ]
     },
     "execution_count": 17,
     "metadata": {},
     "output_type": "execute_result"
    }
   ],
   "source": [
    "df[\"Result\"].unique()"
   ]
  },
  {
   "cell_type": "code",
   "execution_count": 18,
   "id": "ac7b512a",
   "metadata": {},
   "outputs": [
    {
     "name": "stdout",
     "output_type": "stream",
     "text": [
      "Shape of dataframe df: (261409, 11)\n"
     ]
    }
   ],
   "source": [
    "print (\"Shape of dataframe df: {}\".format(df.shape))"
   ]
  },
  {
   "cell_type": "code",
   "execution_count": 19,
   "id": "66f4d3f8",
   "metadata": {
    "colab": {
     "base_uri": "https://localhost:8080/",
     "height": 49
    },
    "id": "66f4d3f8",
    "outputId": "b87c1bf4-be04-493c-c8c0-8864b26f9dca"
   },
   "outputs": [
    {
     "data": {
      "text/html": [
       "<div>\n",
       "<style scoped>\n",
       "    .dataframe tbody tr th:only-of-type {\n",
       "        vertical-align: middle;\n",
       "    }\n",
       "\n",
       "    .dataframe tbody tr th {\n",
       "        vertical-align: top;\n",
       "    }\n",
       "\n",
       "    .dataframe thead th {\n",
       "        text-align: right;\n",
       "    }\n",
       "</style>\n",
       "<table border=\"1\" class=\"dataframe\">\n",
       "  <thead>\n",
       "    <tr style=\"text-align: right;\">\n",
       "      <th></th>\n",
       "      <th>Age</th>\n",
       "      <th>Sex</th>\n",
       "      <th>Pneumonia</th>\n",
       "      <th>Diabetes</th>\n",
       "      <th>Ashma</th>\n",
       "      <th>Hypertension</th>\n",
       "      <th>CVDs</th>\n",
       "      <th>Obesity</th>\n",
       "      <th>CKDs</th>\n",
       "      <th>Tabacco</th>\n",
       "      <th>Result</th>\n",
       "    </tr>\n",
       "  </thead>\n",
       "  <tbody>\n",
       "  </tbody>\n",
       "</table>\n",
       "</div>"
      ],
      "text/plain": [
       "Empty DataFrame\n",
       "Columns: [Age, Sex, Pneumonia, Diabetes, Ashma, Hypertension, CVDs, Obesity, CKDs, Tabacco, Result]\n",
       "Index: []"
      ]
     },
     "execution_count": 19,
     "metadata": {},
     "output_type": "execute_result"
    }
   ],
   "source": [
    "(df[df.Age.isnull()]) #Checking if there is any null value"
   ]
  },
  {
   "cell_type": "markdown",
   "id": "05472790",
   "metadata": {
    "id": "05472790"
   },
   "source": [
    "# Correlation Heat Map"
   ]
  },
  {
   "cell_type": "code",
   "execution_count": 20,
   "id": "326a8ac4",
   "metadata": {
    "id": "326a8ac4",
    "outputId": "bca4ff28-2457-41f5-b32c-07b06ec2359c"
   },
   "outputs": [
    {
     "data": {
      "text/plain": [
       "<AxesSubplot:>"
      ]
     },
     "execution_count": 20,
     "metadata": {},
     "output_type": "execute_result"
    },
    {
     "data": {
      "image/png": "[encoded data removed]",
      "text/plain": [
       "<Figure size 432x288 with 2 Axes>"
      ]
     },
     "metadata": {
      "needs_background": "light"
     },
     "output_type": "display_data"
    }
   ],
   "source": [
    "#Calculating pairwise correlation and using heatmap to present it.\n",
    "corr = df.corr()\n",
    "# Change the colormap to a divergent scale and fix the range of the colormap\n",
    "sns.heatmap(corr, xticklabels=corr.columns, yticklabels=corr.columns, vmin=-1, vmax=1, cmap='RdBu')\n"
   ]
  },
  {
   "cell_type": "code",
   "execution_count": 21,
   "id": "ecf498a8",
   "metadata": {
    "colab": {
     "base_uri": "https://localhost:8080/",
     "height": 606
    },
    "id": "ecf498a8",
    "outputId": "14e06348-2c2c-4fe9-939e-a586cbbcd250"
   },
   "outputs": [
    {
     "data": {
      "image/png": "[encoded data removed]",
      "text/plain": [
       "<Figure size 720x720 with 2 Axes>"
      ]
     },
     "metadata": {
      "needs_background": "light"
     },
     "output_type": "display_data"
    }
   ],
   "source": [
    "fig, ax = plt.subplots(figsize=(10, 10))\n",
    "cax = ax.matshow(df.corr(),cmap='coolwarm', vmin=-1, vmax=1)\n",
    "\n",
    "fig.colorbar(cax)\n",
    "ticks = np.arange(0,len(df.columns),1)\n",
    "ax.set_xticks(ticks)\n",
    "\n",
    "ax.set_xticklabels(df.columns)\n",
    "plt.xticks(rotation = 90)\n",
    "\n",
    "ax.set_yticklabels(df.columns)\n",
    "ax.set_yticks(ticks)\n",
    "\n",
    "#---print the correlation factor---\n",
    "for i in range(df.shape[1]):\n",
    "    for j in range(11):\n",
    "        text = ax.text(j, i, round(df.corr().iloc[i][j],2),\n",
    "                       ha=\"center\", va=\"center\", color=\"w\")\n",
    "plt.show()"
   ]
  },
  {
   "cell_type": "code",
   "execution_count": 22,
   "id": "d19be5d1",
   "metadata": {
    "colab": {
     "base_uri": "https://localhost:8080/",
     "height": 544
    },
    "id": "d19be5d1",
    "outputId": "abcd030e-bc50-4510-b8dd-f55fd2f76fe1",
    "scrolled": true
   },
   "outputs": [
    {
     "data": {
      "image/png": "[encoded data removed]",
      "text/plain": [
       "<Figure size 576x576 with 2 Axes>"
      ]
     },
     "metadata": {
      "needs_background": "light"
     },
     "output_type": "display_data"
    }
   ],
   "source": [
    "sns.heatmap(df.corr(),annot=True)\n",
    "#---get a reference to the current figure and set its size---\n",
    "fig = plt.gcf()\n",
    "fig.set_size_inches(8,8)"
   ]
  },
  {
   "cell_type": "code",
   "execution_count": 23,
   "id": "b33e273e",
   "metadata": {
    "colab": {
     "base_uri": "https://localhost:8080/"
    },
    "id": "b33e273e",
    "outputId": "d38d3d30-8b8e-4572-96ef-33a1cf81ee3b"
   },
   "outputs": [
    {
     "name": "stdout",
     "output_type": "stream",
     "text": [
      "Index(['Result', 'Pneumonia', 'Age', 'Diabetes'], dtype='object')\n"
     ]
    }
   ],
   "source": [
    "print(df.corr().nlargest(4, 'Result').index)"
   ]
  },
  {
   "cell_type": "code",
   "execution_count": 24,
   "id": "6f3ec952",
   "metadata": {
    "colab": {
     "base_uri": "https://localhost:8080/"
    },
    "id": "6f3ec952",
    "outputId": "687d42cb-a10c-4288-d639-55578b0851a9"
   },
   "outputs": [
    {
     "name": "stdout",
     "output_type": "stream",
     "text": [
      "[0.00819675 0.09992031 0.10831413 0.17487823]\n"
     ]
    }
   ],
   "source": [
    "print(df.corr().nlargest(4, 'Result').values[:,8])"
   ]
  },
  {
   "cell_type": "markdown",
   "id": "35ba52fb",
   "metadata": {
    "id": "35ba52fb"
   },
   "source": [
    "# Exploratory Data Analysis (EDA)\n",
    "First, analysing the Result variable:"
   ]
  },
  {
   "cell_type": "code",
   "execution_count": 25,
   "id": "d94b2ced",
   "metadata": {
    "colab": {
     "base_uri": "https://localhost:8080/",
     "height": 0
    },
    "id": "d94b2ced",
    "outputId": "31885672-c699-4c29-c34c-3aea29c6c42f",
    "scrolled": true
   },
   "outputs": [
    {
     "name": "stdout",
     "output_type": "stream",
     "text": [
      "0    159660\n",
      "1    101749\n",
      "Name: Result, dtype: Int64\n"
     ]
    },
    {
     "data": {
      "image/png": "[encoded data removed]",
      "text/plain": [
       "<Figure size 432x288 with 1 Axes>"
      ]
     },
     "metadata": {
      "needs_background": "light"
     },
     "output_type": "display_data"
    }
   ],
   "source": [
    "y = df[\"Result\"]\n",
    "\n",
    "sns.countplot(y)\n",
    "\n",
    "\n",
    "Result_temp = df.Result.value_counts()\n",
    "\n",
    "print(Result_temp)"
   ]
  },
  {
   "cell_type": "code",
   "execution_count": 26,
   "id": "4cdf3d12",
   "metadata": {
    "colab": {
     "base_uri": "https://localhost:8080/",
     "height": 0
    },
    "id": "4cdf3d12",
    "outputId": "17e0ce8d-82e7-41e4-86e7-68047f6fa6b5",
    "scrolled": true
   },
   "outputs": [
    {
     "data": {
      "text/plain": [
       "<AxesSubplot:xlabel='Result', ylabel='Density'>"
      ]
     },
     "execution_count": 26,
     "metadata": {},
     "output_type": "execute_result"
    },
    {
     "data": {
      "image/png": "[encoded data removed]",
      "text/plain": [
       "<Figure size 432x288 with 1 Axes>"
      ]
     },
     "metadata": {
      "needs_background": "light"
     },
     "output_type": "display_data"
    }
   ],
   "source": [
    "sns.distplot(df[\"Result\"])"
   ]
  },
  {
   "cell_type": "code",
   "execution_count": 27,
   "id": "3e335c05",
   "metadata": {
    "colab": {
     "base_uri": "https://localhost:8080/"
    },
    "id": "3e335c05",
    "outputId": "1a491a64-fa86-40bc-b965-ca17a8b09433",
    "scrolled": true
   },
   "outputs": [
    {
     "name": "stdout",
     "output_type": "stream",
     "text": [
      "Percentage of patience with Negative Result: 60.71\n",
      "Percentage of patience with Positive Result: 38.69\n"
     ]
    }
   ],
   "source": [
    "# Total result patient with positive and negative result\n",
    "print(\"Percentage of patience with Negative Result: \"+str(round(Result_temp[0]*100/263007,2)))\n",
    "print(\"Percentage of patience with Positive Result: \"+str(round(Result_temp[1]*100/263007,2)))\n"
   ]
  },
  {
   "cell_type": "markdown",
   "id": "16a7a24d",
   "metadata": {
    "id": "16a7a24d"
   },
   "source": [
    "# We'll analyse 'sex', 'Pneumonia', 'Diabetes', 'Ashma', 'Hypertension', 'CVDs', 'Obesity', 'CKDs' and 'Tabacco' features\n",
    "Analysing the 'Sex' feature:"
   ]
  },
  {
   "cell_type": "code",
   "execution_count": 28,
   "id": "d061ee04",
   "metadata": {
    "colab": {
     "base_uri": "https://localhost:8080/"
    },
    "id": "d061ee04",
    "outputId": "80c3d128-5194-4a28-da06-8b33b81f6204"
   },
   "outputs": [
    {
     "data": {
      "text/plain": [
       "<IntegerArray>\n",
       "[0, 1]\n",
       "Length: 2, dtype: Int64"
      ]
     },
     "execution_count": 28,
     "metadata": {},
     "output_type": "execute_result"
    }
   ],
   "source": [
    "df[\"Sex\"].unique()\n"
   ]
  },
  {
   "cell_type": "code",
   "execution_count": 29,
   "id": "9bc80183",
   "metadata": {
    "colab": {
     "base_uri": "https://localhost:8080/",
     "height": 0
    },
    "id": "9bc80183",
    "outputId": "56003906-d978-4ac6-d6f8-4108fc3cc904"
   },
   "outputs": [
    {
     "data": {
      "text/plain": [
       "<AxesSubplot:xlabel='Sex', ylabel='Result'>"
      ]
     },
     "execution_count": 29,
     "metadata": {},
     "output_type": "execute_result"
    },
    {
     "data": {
      "image/png": "[encoded data removed]",
      "text/plain": [
       "<Figure size 432x288 with 1 Axes>"
      ]
     },
     "metadata": {
      "needs_background": "light"
     },
     "output_type": "display_data"
    }
   ],
   "source": [
    "sns.barplot(df[\"Sex\"],y)"
   ]
  },
  {
   "cell_type": "markdown",
   "id": "2aae1bcc",
   "metadata": {
    "id": "2aae1bcc"
   },
   "source": [
    "##### We notice, that females are more likely to have more negative cases than males"
   ]
  },
  {
   "cell_type": "markdown",
   "id": "33db9694",
   "metadata": {
    "id": "33db9694"
   },
   "source": [
    "# Analysing the 'Pneumonia' feature"
   ]
  },
  {
   "cell_type": "code",
   "execution_count": 30,
   "id": "9ea1ddf3",
   "metadata": {
    "colab": {
     "base_uri": "https://localhost:8080/"
    },
    "id": "9ea1ddf3",
    "outputId": "a2dc5863-4913-487b-f038-f374ff1c6255"
   },
   "outputs": [
    {
     "data": {
      "text/plain": [
       "<IntegerArray>\n",
       "[0, 1]\n",
       "Length: 2, dtype: Int64"
      ]
     },
     "execution_count": 30,
     "metadata": {},
     "output_type": "execute_result"
    }
   ],
   "source": [
    "df[\"Pneumonia\"].unique()"
   ]
  },
  {
   "cell_type": "code",
   "execution_count": 31,
   "id": "7a7fc3a8",
   "metadata": {
    "colab": {
     "base_uri": "https://localhost:8080/",
     "height": 0
    },
    "id": "7a7fc3a8",
    "outputId": "600c75aa-7cd0-4f24-d516-e5c03e884bf3"
   },
   "outputs": [
    {
     "data": {
      "text/plain": [
       "<AxesSubplot:xlabel='Pneumonia', ylabel='Result'>"
      ]
     },
     "execution_count": 31,
     "metadata": {},
     "output_type": "execute_result"
    },
    {
     "data": {
      "image/png": "[encoded data removed]",
      "text/plain": [
       "<Figure size 432x288 with 1 Axes>"
      ]
     },
     "metadata": {
      "needs_background": "light"
     },
     "output_type": "display_data"
    }
   ],
   "source": [
    "sns.barplot(df[\"Pneumonia\"],y)"
   ]
  },
  {
   "cell_type": "markdown",
   "id": "81109db1",
   "metadata": {
    "id": "81109db1"
   },
   "source": [
    "##### We notice, that Patients with Pneumonia have mostly Positive Result"
   ]
  },
  {
   "cell_type": "markdown",
   "id": "29f8e012",
   "metadata": {
    "id": "29f8e012"
   },
   "source": [
    "# Analysing the 'Diabetes' feature"
   ]
  },
  {
   "cell_type": "code",
   "execution_count": 32,
   "id": "dc058efd",
   "metadata": {
    "id": "dc058efd",
    "outputId": "2eb12671-5e13-4219-fdf1-89d63dd301b4"
   },
   "outputs": [
    {
     "data": {
      "text/plain": [
       "<IntegerArray>\n",
       "[1, 0]\n",
       "Length: 2, dtype: Int64"
      ]
     },
     "execution_count": 32,
     "metadata": {},
     "output_type": "execute_result"
    }
   ],
   "source": [
    "df[\"Diabetes\"].unique()"
   ]
  },
  {
   "cell_type": "code",
   "execution_count": 33,
   "id": "bc16312a",
   "metadata": {
    "id": "bc16312a",
    "outputId": "201677d1-df23-457d-cf4f-b45249826c97"
   },
   "outputs": [
    {
     "data": {
      "text/plain": [
       "<AxesSubplot:xlabel='Diabetes', ylabel='Result'>"
      ]
     },
     "execution_count": 33,
     "metadata": {},
     "output_type": "execute_result"
    },
    {
     "data": {
      "image/png": "[encoded data removed]",
      "text/plain": [
       "<Figure size 432x288 with 1 Axes>"
      ]
     },
     "metadata": {
      "needs_background": "light"
     },
     "output_type": "display_data"
    }
   ],
   "source": [
    "sns.barplot(df[\"Diabetes\"],y)"
   ]
  },
  {
   "cell_type": "markdown",
   "id": "7e16e642",
   "metadata": {
    "id": "7e16e642"
   },
   "source": [
    "##### We notice, that Patients with Diabetes have mostly Positive Result"
   ]
  },
  {
   "cell_type": "markdown",
   "id": "ad4f5f0d",
   "metadata": {
    "id": "ad4f5f0d"
   },
   "source": [
    "# Analysing the 'Ashma' feature"
   ]
  },
  {
   "cell_type": "markdown",
   "id": "333c20a2",
   "metadata": {
    "id": "333c20a2"
   },
   "source": [
    "##### We notice, that Patients with Diabetes have mostly Positive Result"
   ]
  },
  {
   "cell_type": "code",
   "execution_count": 34,
   "id": "3f23d0d2",
   "metadata": {
    "id": "3f23d0d2",
    "outputId": "1aa8a597-2819-419b-ace8-2de18407aa99"
   },
   "outputs": [
    {
     "data": {
      "text/plain": [
       "<IntegerArray>\n",
       "[0, 1]\n",
       "Length: 2, dtype: Int64"
      ]
     },
     "execution_count": 34,
     "metadata": {},
     "output_type": "execute_result"
    }
   ],
   "source": [
    "df[\"Ashma\"].unique()"
   ]
  },
  {
   "cell_type": "code",
   "execution_count": 35,
   "id": "f1051e79",
   "metadata": {
    "id": "f1051e79",
    "outputId": "31f7121f-d957-4d66-aaf5-9728f33adaf6"
   },
   "outputs": [
    {
     "data": {
      "text/plain": [
       "<AxesSubplot:xlabel='Ashma', ylabel='Result'>"
      ]
     },
     "execution_count": 35,
     "metadata": {},
     "output_type": "execute_result"
    },
    {
     "data": {
      "image/png": "[encoded data removed]",
      "text/plain": [
       "<Figure size 432x288 with 1 Axes>"
      ]
     },
     "metadata": {
      "needs_background": "light"
     },
     "output_type": "display_data"
    }
   ],
   "source": [
    "sns.barplot(df[\"Ashma\"],y)"
   ]
  },
  {
   "cell_type": "markdown",
   "id": "41717679",
   "metadata": {
    "id": "41717679"
   },
   "source": [
    "##### We notice, that Patients with Ashma have mostly Negative Result"
   ]
  },
  {
   "cell_type": "markdown",
   "id": "963a43d8",
   "metadata": {
    "id": "963a43d8"
   },
   "source": [
    "# Analysing the 'Hypertension' feature"
   ]
  },
  {
   "cell_type": "code",
   "execution_count": 36,
   "id": "cbb2a609",
   "metadata": {
    "id": "cbb2a609",
    "outputId": "7c31dc3a-d609-4c47-efd7-47a007eb2956"
   },
   "outputs": [
    {
     "data": {
      "text/plain": [
       "<IntegerArray>\n",
       "[1, 0]\n",
       "Length: 2, dtype: Int64"
      ]
     },
     "execution_count": 36,
     "metadata": {},
     "output_type": "execute_result"
    }
   ],
   "source": [
    "df[\"Hypertension\"].unique()"
   ]
  },
  {
   "cell_type": "code",
   "execution_count": 37,
   "id": "e60255c4",
   "metadata": {
    "id": "e60255c4",
    "outputId": "f6096c71-8135-4e1f-eff0-d6b60b6c01e1"
   },
   "outputs": [
    {
     "data": {
      "text/plain": [
       "<AxesSubplot:xlabel='Hypertension', ylabel='Result'>"
      ]
     },
     "execution_count": 37,
     "metadata": {},
     "output_type": "execute_result"
    },
    {
     "data": {
      "image/png": "[encoded data removed]",
      "text/plain": [
       "<Figure size 432x288 with 1 Axes>"
      ]
     },
     "metadata": {
      "needs_background": "light"
     },
     "output_type": "display_data"
    }
   ],
   "source": [
    "sns.barplot(df[\"Hypertension\"],y)"
   ]
  },
  {
   "cell_type": "markdown",
   "id": "2f16d8af",
   "metadata": {
    "id": "2f16d8af"
   },
   "source": [
    "##### We notice, that Patients with Hypertension have mostly Positive Result"
   ]
  },
  {
   "cell_type": "markdown",
   "id": "097dc33d",
   "metadata": {
    "id": "097dc33d"
   },
   "source": [
    "# Analysing the 'CVDs' feature"
   ]
  },
  {
   "cell_type": "code",
   "execution_count": 38,
   "id": "1cd2e86d",
   "metadata": {
    "id": "1cd2e86d",
    "outputId": "37927d55-e028-4cdc-e231-a2c97d0497cd"
   },
   "outputs": [
    {
     "data": {
      "text/plain": [
       "<IntegerArray>\n",
       "[0, 1]\n",
       "Length: 2, dtype: Int64"
      ]
     },
     "execution_count": 38,
     "metadata": {},
     "output_type": "execute_result"
    }
   ],
   "source": [
    "df[\"CVDs\"].unique()"
   ]
  },
  {
   "cell_type": "code",
   "execution_count": 39,
   "id": "021178d3",
   "metadata": {
    "id": "021178d3",
    "outputId": "c90103e3-12bf-4b24-a9dc-712c4dba1a7d"
   },
   "outputs": [
    {
     "data": {
      "text/plain": [
       "<AxesSubplot:xlabel='CVDs', ylabel='Result'>"
      ]
     },
     "execution_count": 39,
     "metadata": {},
     "output_type": "execute_result"
    },
    {
     "data": {
      "image/png": "[encoded data removed]",
      "text/plain": [
       "<Figure size 432x288 with 1 Axes>"
      ]
     },
     "metadata": {
      "needs_background": "light"
     },
     "output_type": "display_data"
    }
   ],
   "source": [
    "sns.barplot(df[\"CVDs\"],y)"
   ]
  },
  {
   "cell_type": "markdown",
   "id": "f3499eb1",
   "metadata": {
    "id": "f3499eb1"
   },
   "source": [
    "##### We notice, that Patients with CVDs have mostly Negative Result"
   ]
  },
  {
   "cell_type": "markdown",
   "id": "50db0379",
   "metadata": {
    "id": "50db0379"
   },
   "source": [
    "# Analysing the 'Obesity' feature"
   ]
  },
  {
   "cell_type": "code",
   "execution_count": 40,
   "id": "ec9af819",
   "metadata": {
    "id": "ec9af819",
    "outputId": "77892777-b02d-4ecd-ec55-6e786e723d6e"
   },
   "outputs": [
    {
     "data": {
      "text/plain": [
       "<IntegerArray>\n",
       "[1, 0]\n",
       "Length: 2, dtype: Int64"
      ]
     },
     "execution_count": 40,
     "metadata": {},
     "output_type": "execute_result"
    }
   ],
   "source": [
    "df[\"Obesity\"].unique()"
   ]
  },
  {
   "cell_type": "code",
   "execution_count": 41,
   "id": "1f4b6b6c",
   "metadata": {
    "id": "1f4b6b6c",
    "outputId": "0496fbc0-58b1-4a51-cf5a-a75c34047948"
   },
   "outputs": [
    {
     "data": {
      "text/plain": [
       "<AxesSubplot:xlabel='Obesity', ylabel='Result'>"
      ]
     },
     "execution_count": 41,
     "metadata": {},
     "output_type": "execute_result"
    },
    {
     "data": {
      "image/png": "[encoded data removed]",
      "text/plain": [
       "<Figure size 432x288 with 1 Axes>"
      ]
     },
     "metadata": {
      "needs_background": "light"
     },
     "output_type": "display_data"
    }
   ],
   "source": [
    "sns.barplot(df[\"Obesity\"],y)"
   ]
  },
  {
   "cell_type": "markdown",
   "id": "396f33a5",
   "metadata": {
    "id": "396f33a5"
   },
   "source": [
    "##### We notice, that Patients with Obesity have mostly Positive Result"
   ]
  },
  {
   "cell_type": "markdown",
   "id": "9f6eb0cf",
   "metadata": {
    "id": "9f6eb0cf"
   },
   "source": [
    "# Analysing the 'CKDs' feature"
   ]
  },
  {
   "cell_type": "code",
   "execution_count": 42,
   "id": "f582cfa4",
   "metadata": {
    "id": "f582cfa4",
    "outputId": "51a36564-bd31-414d-f544-8e48d5210bd0"
   },
   "outputs": [
    {
     "data": {
      "text/plain": [
       "<IntegerArray>\n",
       "[0, 1]\n",
       "Length: 2, dtype: Int64"
      ]
     },
     "execution_count": 42,
     "metadata": {},
     "output_type": "execute_result"
    }
   ],
   "source": [
    "df[\"CKDs\"].unique()"
   ]
  },
  {
   "cell_type": "code",
   "execution_count": 43,
   "id": "e580bab1",
   "metadata": {
    "id": "e580bab1",
    "outputId": "10982bc1-d53a-4477-ee82-adc80a575ac8"
   },
   "outputs": [
    {
     "data": {
      "text/plain": [
       "<AxesSubplot:xlabel='CKDs', ylabel='Result'>"
      ]
     },
     "execution_count": 43,
     "metadata": {},
     "output_type": "execute_result"
    },
    {
     "data": {
      "image/png": "[encoded data removed]",
      "text/plain": [
       "<Figure size 432x288 with 1 Axes>"
      ]
     },
     "metadata": {
      "needs_background": "light"
     },
     "output_type": "display_data"
    }
   ],
   "source": [
    "sns.barplot(df[\"CKDs\"],y)"
   ]
  },
  {
   "cell_type": "markdown",
   "id": "9c0c71ab",
   "metadata": {
    "id": "9c0c71ab"
   },
   "source": [
    "##### We notice, that Patients with CKDs have mostly Positive Result"
   ]
  },
  {
   "cell_type": "markdown",
   "id": "08907e55",
   "metadata": {
    "id": "08907e55"
   },
   "source": [
    "# Analysing the 'Tabacco' feature"
   ]
  },
  {
   "cell_type": "code",
   "execution_count": 44,
   "id": "362caada",
   "metadata": {
    "id": "362caada",
    "outputId": "bd16f99b-ecc5-4f48-96bd-0420c263e05f"
   },
   "outputs": [
    {
     "data": {
      "text/plain": [
       "<IntegerArray>\n",
       "[0, 1]\n",
       "Length: 2, dtype: Int64"
      ]
     },
     "execution_count": 44,
     "metadata": {},
     "output_type": "execute_result"
    }
   ],
   "source": [
    "df[\"Tabacco\"].unique()"
   ]
  },
  {
   "cell_type": "code",
   "execution_count": 45,
   "id": "94931f5f",
   "metadata": {
    "id": "94931f5f",
    "outputId": "d7bf7893-2089-46da-b0de-fffed4a4a703"
   },
   "outputs": [
    {
     "data": {
      "text/plain": [
       "<AxesSubplot:xlabel='Tabacco', ylabel='Result'>"
      ]
     },
     "execution_count": 45,
     "metadata": {},
     "output_type": "execute_result"
    },
    {
     "data": {
      "image/png": "[encoded data removed]",
      "text/plain": [
       "<Figure size 432x288 with 1 Axes>"
      ]
     },
     "metadata": {
      "needs_background": "light"
     },
     "output_type": "display_data"
    }
   ],
   "source": [
    "sns.barplot(df[\"Tabacco\"],y)"
   ]
  },
  {
   "cell_type": "markdown",
   "id": "49ea8580",
   "metadata": {
    "id": "49ea8580"
   },
   "source": [
    "##### We notice, that Patients with Tabacco have mostly Positive Result"
   ]
  },
  {
   "cell_type": "markdown",
   "id": "fd29a4b6",
   "metadata": {
    "id": "fd29a4b6"
   },
   "source": [
    "# Data Processing "
   ]
  },
  {
   "cell_type": "code",
   "execution_count": 46,
   "id": "2caec6ce",
   "metadata": {
    "id": "2caec6ce"
   },
   "outputs": [],
   "source": [
    "selected_cols = ['Age', 'Pneumonia', 'Diabetes', 'Result']"
   ]
  },
  {
   "cell_type": "code",
   "execution_count": 47,
   "id": "90726484",
   "metadata": {
    "id": "90726484"
   },
   "outputs": [],
   "source": [
    "df = df[selected_cols] "
   ]
  },
  {
   "cell_type": "code",
   "execution_count": 48,
   "id": "0b7965da",
   "metadata": {
    "id": "0b7965da"
   },
   "outputs": [],
   "source": [
    "dataset = pd.get_dummies(df, columns = ['Pneumonia', 'Diabetes'])"
   ]
  },
  {
   "cell_type": "code",
   "execution_count": 49,
   "id": "df0ca959",
   "metadata": {
    "id": "df0ca959"
   },
   "outputs": [],
   "source": [
    "from sklearn.preprocessing import StandardScaler\n",
    "scaler = StandardScaler()\n",
    "columns_to_scale = ['Age']\n",
    "dataset[columns_to_scale] = scaler.fit_transform(dataset[columns_to_scale])"
   ]
  },
  {
   "cell_type": "code",
   "execution_count": 50,
   "id": "94f6648f",
   "metadata": {
    "colab": {
     "base_uri": "https://localhost:8080/"
    },
    "id": "94f6648f",
    "outputId": "ec7fbb72-f97b-4d77-a823-53d416158c51"
   },
   "outputs": [
    {
     "data": {
      "text/plain": [
       "Index(['Age', 'Result', 'Pneumonia_0', 'Pneumonia_1', 'Diabetes_0',\n",
       "       'Diabetes_1'],\n",
       "      dtype='object')"
      ]
     },
     "execution_count": 50,
     "metadata": {},
     "output_type": "execute_result"
    }
   ],
   "source": [
    "dataset.columns"
   ]
  },
  {
   "cell_type": "code",
   "execution_count": 51,
   "id": "5a6b1b70",
   "metadata": {
    "id": "5a6b1b70"
   },
   "outputs": [],
   "source": [
    "dataset['Result'] = pd.get_dummies(df['Result'], drop_first=True)"
   ]
  },
  {
   "cell_type": "code",
   "execution_count": 52,
   "id": "728543a4",
   "metadata": {
    "colab": {
     "base_uri": "https://localhost:8080/",
     "height": 0
    },
    "id": "728543a4",
    "outputId": "5016da6e-cda6-4d6b-8e2c-01e3c1b2f13f"
   },
   "outputs": [
    {
     "data": {
      "text/html": [
       "<div>\n",
       "<style scoped>\n",
       "    .dataframe tbody tr th:only-of-type {\n",
       "        vertical-align: middle;\n",
       "    }\n",
       "\n",
       "    .dataframe tbody tr th {\n",
       "        vertical-align: top;\n",
       "    }\n",
       "\n",
       "    .dataframe thead th {\n",
       "        text-align: right;\n",
       "    }\n",
       "</style>\n",
       "<table border=\"1\" class=\"dataframe\">\n",
       "  <thead>\n",
       "    <tr style=\"text-align: right;\">\n",
       "      <th></th>\n",
       "      <th>Age</th>\n",
       "      <th>Result</th>\n",
       "      <th>Pneumonia_0</th>\n",
       "      <th>Pneumonia_1</th>\n",
       "      <th>Diabetes_0</th>\n",
       "      <th>Diabetes_1</th>\n",
       "    </tr>\n",
       "  </thead>\n",
       "  <tbody>\n",
       "    <tr>\n",
       "      <th>0</th>\n",
       "      <td>1.861446</td>\n",
       "      <td>0</td>\n",
       "      <td>1</td>\n",
       "      <td>0</td>\n",
       "      <td>0</td>\n",
       "      <td>1</td>\n",
       "    </tr>\n",
       "    <tr>\n",
       "      <th>1</th>\n",
       "      <td>1.683874</td>\n",
       "      <td>0</td>\n",
       "      <td>1</td>\n",
       "      <td>0</td>\n",
       "      <td>0</td>\n",
       "      <td>1</td>\n",
       "    </tr>\n",
       "    <tr>\n",
       "      <th>2</th>\n",
       "      <td>0.440873</td>\n",
       "      <td>1</td>\n",
       "      <td>0</td>\n",
       "      <td>1</td>\n",
       "      <td>1</td>\n",
       "      <td>0</td>\n",
       "    </tr>\n",
       "    <tr>\n",
       "      <th>3</th>\n",
       "      <td>-1.038890</td>\n",
       "      <td>1</td>\n",
       "      <td>1</td>\n",
       "      <td>0</td>\n",
       "      <td>1</td>\n",
       "      <td>0</td>\n",
       "    </tr>\n",
       "    <tr>\n",
       "      <th>4</th>\n",
       "      <td>-0.861319</td>\n",
       "      <td>0</td>\n",
       "      <td>1</td>\n",
       "      <td>0</td>\n",
       "      <td>1</td>\n",
       "      <td>0</td>\n",
       "    </tr>\n",
       "    <tr>\n",
       "      <th>...</th>\n",
       "      <td>...</td>\n",
       "      <td>...</td>\n",
       "      <td>...</td>\n",
       "      <td>...</td>\n",
       "      <td>...</td>\n",
       "      <td>...</td>\n",
       "    </tr>\n",
       "    <tr>\n",
       "      <th>263002</th>\n",
       "      <td>-0.210223</td>\n",
       "      <td>1</td>\n",
       "      <td>1</td>\n",
       "      <td>0</td>\n",
       "      <td>1</td>\n",
       "      <td>0</td>\n",
       "    </tr>\n",
       "    <tr>\n",
       "      <th>263003</th>\n",
       "      <td>0.618445</td>\n",
       "      <td>1</td>\n",
       "      <td>0</td>\n",
       "      <td>1</td>\n",
       "      <td>0</td>\n",
       "      <td>1</td>\n",
       "    </tr>\n",
       "    <tr>\n",
       "      <th>263004</th>\n",
       "      <td>1.328731</td>\n",
       "      <td>1</td>\n",
       "      <td>1</td>\n",
       "      <td>0</td>\n",
       "      <td>0</td>\n",
       "      <td>1</td>\n",
       "    </tr>\n",
       "    <tr>\n",
       "      <th>263005</th>\n",
       "      <td>1.683874</td>\n",
       "      <td>1</td>\n",
       "      <td>0</td>\n",
       "      <td>1</td>\n",
       "      <td>1</td>\n",
       "      <td>0</td>\n",
       "    </tr>\n",
       "    <tr>\n",
       "      <th>263006</th>\n",
       "      <td>-1.453224</td>\n",
       "      <td>1</td>\n",
       "      <td>1</td>\n",
       "      <td>0</td>\n",
       "      <td>1</td>\n",
       "      <td>0</td>\n",
       "    </tr>\n",
       "  </tbody>\n",
       "</table>\n",
       "<p>261409 rows × 6 columns</p>\n",
       "</div>"
      ],
      "text/plain": [
       "             Age  Result  Pneumonia_0  Pneumonia_1  Diabetes_0  Diabetes_1\n",
       "0       1.861446       0            1            0           0           1\n",
       "1       1.683874       0            1            0           0           1\n",
       "2       0.440873       1            0            1           1           0\n",
       "3      -1.038890       1            1            0           1           0\n",
       "4      -0.861319       0            1            0           1           0\n",
       "...          ...     ...          ...          ...         ...         ...\n",
       "263002 -0.210223       1            1            0           1           0\n",
       "263003  0.618445       1            0            1           0           1\n",
       "263004  1.328731       1            1            0           0           1\n",
       "263005  1.683874       1            0            1           1           0\n",
       "263006 -1.453224       1            1            0           1           0\n",
       "\n",
       "[261409 rows x 6 columns]"
      ]
     },
     "execution_count": 52,
     "metadata": {},
     "output_type": "execute_result"
    }
   ],
   "source": [
    "dataset\n"
   ]
  },
  {
   "cell_type": "code",
   "execution_count": 53,
   "id": "c0c6f777",
   "metadata": {
    "colab": {
     "base_uri": "https://localhost:8080/"
    },
    "id": "c0c6f777",
    "outputId": "d6d2a52f-26d7-4216-dc8d-5bda3e310446"
   },
   "outputs": [
    {
     "data": {
      "text/plain": [
       "0    159660\n",
       "1    101749\n",
       "Name: Result, dtype: int64"
      ]
     },
     "execution_count": 53,
     "metadata": {},
     "output_type": "execute_result"
    }
   ],
   "source": [
    "dataset['Result'].value_counts()"
   ]
  },
  {
   "cell_type": "code",
   "execution_count": 54,
   "id": "35344123",
   "metadata": {
    "colab": {
     "base_uri": "https://localhost:8080/"
    },
    "id": "35344123",
    "outputId": "0732d686-70e5-47cc-cda7-6de98cb532f2"
   },
   "outputs": [
    {
     "data": {
      "text/plain": [
       "2"
      ]
     },
     "execution_count": 54,
     "metadata": {},
     "output_type": "execute_result"
    }
   ],
   "source": [
    "dataset['Result'].nunique()"
   ]
  },
  {
   "cell_type": "markdown",
   "id": "2dc28eab",
   "metadata": {
    "id": "2dc28eab"
   },
   "source": [
    "# Train Test Split and Model Fitting "
   ]
  },
  {
   "cell_type": "code",
   "execution_count": 55,
   "id": "2f707739",
   "metadata": {
    "id": "2f707739"
   },
   "outputs": [],
   "source": [
    "from sklearn.model_selection import train_test_split"
   ]
  },
  {
   "cell_type": "code",
   "execution_count": 56,
   "id": "e46c7116",
   "metadata": {
    "id": "e46c7116"
   },
   "outputs": [],
   "source": [
    "X = dataset.drop(['Result'], axis = 1)\n",
    "Y = dataset['Result']\n",
    "X_train, X_test, Y_train, Y_test = train_test_split(X, Y, test_size = 0.3, random_state = 0)"
   ]
  },
  {
   "cell_type": "code",
   "execution_count": 57,
   "id": "79d9b4a6",
   "metadata": {
    "id": "79d9b4a6"
   },
   "outputs": [],
   "source": [
    "Y_train=Y_train.astype('int')\n",
    "Y_test=Y_test.astype('int')\n"
   ]
  },
  {
   "cell_type": "code",
   "execution_count": 58,
   "id": "ab59dc81",
   "metadata": {
    "colab": {
     "base_uri": "https://localhost:8080/"
    },
    "id": "ab59dc81",
    "outputId": "0ddcc803-894e-45e3-c7ac-6574af3a1d17"
   },
   "outputs": [
    {
     "data": {
      "text/plain": [
       "(182986, 5)"
      ]
     },
     "execution_count": 58,
     "metadata": {},
     "output_type": "execute_result"
    }
   ],
   "source": [
    "X_train.shape"
   ]
  },
  {
   "cell_type": "code",
   "execution_count": 59,
   "id": "997eaaad",
   "metadata": {
    "colab": {
     "base_uri": "https://localhost:8080/"
    },
    "id": "997eaaad",
    "outputId": "6eaf96b9-21c0-46db-ec73-2eec34253301"
   },
   "outputs": [
    {
     "data": {
      "text/plain": [
       "(78423, 5)"
      ]
     },
     "execution_count": 59,
     "metadata": {},
     "output_type": "execute_result"
    }
   ],
   "source": [
    "X_test.shape"
   ]
  },
  {
   "cell_type": "code",
   "execution_count": 60,
   "id": "70006caf",
   "metadata": {
    "colab": {
     "base_uri": "https://localhost:8080/"
    },
    "id": "70006caf",
    "outputId": "f1cbc406-690c-4276-c9d0-0140adcc694e"
   },
   "outputs": [
    {
     "data": {
      "text/plain": [
       "(182986,)"
      ]
     },
     "execution_count": 60,
     "metadata": {},
     "output_type": "execute_result"
    }
   ],
   "source": [
    "Y_train.shape"
   ]
  },
  {
   "cell_type": "code",
   "execution_count": 61,
   "id": "24fc7461",
   "metadata": {
    "colab": {
     "base_uri": "https://localhost:8080/"
    },
    "id": "24fc7461",
    "outputId": "7c856978-e119-4dbb-99ea-ee5c3a446605"
   },
   "outputs": [
    {
     "data": {
      "text/plain": [
       "(78423,)"
      ]
     },
     "execution_count": 61,
     "metadata": {},
     "output_type": "execute_result"
    }
   ],
   "source": [
    "Y_test.shape"
   ]
  },
  {
   "cell_type": "code",
   "execution_count": 62,
   "id": "596791ed",
   "metadata": {},
   "outputs": [],
   "source": [
    "X_train = scaler.fit_transform(X_train)\n",
    "X_test = scaler.transform(X_test)\n"
   ]
  },
  {
   "cell_type": "markdown",
   "id": "99ce22fe",
   "metadata": {
    "id": "99ce22fe"
   },
   "source": [
    "# Logistic Regression"
   ]
  },
  {
   "cell_type": "code",
   "execution_count": 63,
   "id": "abe5de3c",
   "metadata": {
    "id": "abe5de3c"
   },
   "outputs": [],
   "source": [
    "from sklearn.linear_model import LogisticRegression\n",
    "from sklearn.metrics import accuracy_score,roc_curve,roc_auc_score"
   ]
  },
  {
   "cell_type": "code",
   "execution_count": 64,
   "id": "ea1d4412",
   "metadata": {
    "id": "ea1d4412"
   },
   "outputs": [],
   "source": [
    "lr = LogisticRegression()\n",
    "lr.fit(X_train,Y_train)\n",
    "Y_pred_lr = lr.predict(X_test)"
   ]
  },
  {
   "cell_type": "code",
   "execution_count": 65,
   "id": "07d5ff49",
   "metadata": {
    "id": "07d5ff49",
    "outputId": "06b0aaf7-24da-47c4-f0e3-8e8dc98f7ee3"
   },
   "outputs": [
    {
     "data": {
      "text/plain": [
       "(78423,)"
      ]
     },
     "execution_count": 65,
     "metadata": {},
     "output_type": "execute_result"
    }
   ],
   "source": [
    "Y_pred_lr.shape"
   ]
  },
  {
   "cell_type": "code",
   "execution_count": 66,
   "id": "a2a92888",
   "metadata": {
    "id": "a2a92888",
    "outputId": "f4b819ad-03c6-4031-e679-f55bfa2033c0"
   },
   "outputs": [
    {
     "name": "stdout",
     "output_type": "stream",
     "text": [
      "The accuracy score achieved using Logistic Regression is: 64.06 %\n"
     ]
    }
   ],
   "source": [
    "score_lr = round(accuracy_score(Y_pred_lr,Y_test)*100,2)\n",
    "\n",
    "print(\"The accuracy score achieved using Logistic Regression is: \"+str(score_lr)+\" %\")"
   ]
  },
  {
   "cell_type": "code",
   "execution_count": 67,
   "id": "0cbdf83e",
   "metadata": {},
   "outputs": [
    {
     "name": "stdout",
     "output_type": "stream",
     "text": [
      "[[42601  5103]\n",
      " [23079  7640]]\n",
      "              precision    recall  f1-score   support\n",
      "\n",
      "           0       0.65      0.89      0.75     47704\n",
      "           1       0.60      0.25      0.35     30719\n",
      "\n",
      "    accuracy                           0.64     78423\n",
      "   macro avg       0.62      0.57      0.55     78423\n",
      "weighted avg       0.63      0.64      0.59     78423\n",
      "\n"
     ]
    }
   ],
   "source": [
    "from sklearn.metrics import confusion_matrix, classification_report, precision_score,recall_score,f1_score\n",
    "cm = confusion_matrix(Y_test, Y_pred_lr)\n",
    "report = classification_report(Y_test, Y_pred_lr)\n",
    "print(cm)\n",
    "print(report)"
   ]
  },
  {
   "cell_type": "code",
   "execution_count": 68,
   "id": "20fe1524",
   "metadata": {},
   "outputs": [
    {
     "name": "stdout",
     "output_type": "stream",
     "text": [
      "Precision Score :  0.6406411384415286\n"
     ]
    }
   ],
   "source": [
    "print(\"Precision Score : \",precision_score(Y_test,Y_pred_lr, \n",
    "                                           pos_label='positive',\n",
    "                                           average='micro'))"
   ]
  },
  {
   "cell_type": "code",
   "execution_count": 69,
   "id": "f19631df",
   "metadata": {},
   "outputs": [
    {
     "name": "stdout",
     "output_type": "stream",
     "text": [
      "Recall Score :  0.6406411384415286\n"
     ]
    }
   ],
   "source": [
    "print(\"Recall Score : \",recall_score(Y_test,Y_pred_lr, \n",
    "                                           pos_label='positive',\n",
    "                                           average='micro'))"
   ]
  },
  {
   "cell_type": "code",
   "execution_count": 70,
   "id": "f5cdf5de",
   "metadata": {},
   "outputs": [
    {
     "name": "stdout",
     "output_type": "stream",
     "text": [
      "0.6406411384415286\n"
     ]
    }
   ],
   "source": [
    "print(f1_score(Y_test,Y_pred_lr,average='micro'))"
   ]
  },
  {
   "cell_type": "code",
   "execution_count": 71,
   "id": "14ebdf99",
   "metadata": {
    "scrolled": true
   },
   "outputs": [
    {
     "data": {
      "image/png": "[encoded data removed]",
      "text/plain": [
       "<Figure size 432x288 with 1 Axes>"
      ]
     },
     "metadata": {
      "needs_background": "light"
     },
     "output_type": "display_data"
    }
   ],
   "source": [
    "###Roc curve\n",
    "fpr, tpr,_=roc_curve(lr.predict(X_train),Y_train,drop_intermediate=False)\n",
    "import matplotlib.pyplot as plt\n",
    "plt.figure()\n",
    "plt.plot(fpr, tpr, color='red',\n",
    "         lw=2, label='ROC curve')\n",
    "plt.plot([0, 1], [0, 1], color='blue', lw=2, linestyle='--')\n",
    "plt.xlabel('False Positive ')\n",
    "plt.ylabel('True Positive ')\n",
    "plt.title('ROC curve')\n",
    "plt.show()"
   ]
  },
  {
   "cell_type": "code",
   "execution_count": 72,
   "id": "f3e46f6f",
   "metadata": {},
   "outputs": [
    {
     "data": {
      "text/plain": [
       "0.6310971529588432"
      ]
     },
     "execution_count": 72,
     "metadata": {},
     "output_type": "execute_result"
    }
   ],
   "source": [
    "roc_auc_score(lr.predict(X_train),Y_train)"
   ]
  },
  {
   "cell_type": "markdown",
   "id": "6981903c",
   "metadata": {
    "id": "6981903c"
   },
   "source": [
    "# K nearest neighbors (kNN)"
   ]
  },
  {
   "cell_type": "code",
   "execution_count": 73,
   "id": "a081de10",
   "metadata": {
    "id": "a081de10"
   },
   "outputs": [],
   "source": [
    "from sklearn.neighbors import KNeighborsClassifier\n",
    "\n",
    "knn = KNeighborsClassifier(n_neighbors=7)\n",
    "knn.fit(X_train,Y_train)\n",
    "Y_pred_knn=knn.predict(X_test)"
   ]
  },
  {
   "cell_type": "code",
   "execution_count": 74,
   "id": "cbd19a8c",
   "metadata": {
    "id": "cbd19a8c",
    "outputId": "16817a57-a703-4e5b-a1b2-a993429941e8"
   },
   "outputs": [
    {
     "data": {
      "text/plain": [
       "(78423,)"
      ]
     },
     "execution_count": 74,
     "metadata": {},
     "output_type": "execute_result"
    }
   ],
   "source": [
    "Y_pred_knn.shape"
   ]
  },
  {
   "cell_type": "code",
   "execution_count": 75,
   "id": "c600f1eb",
   "metadata": {
    "id": "c600f1eb",
    "outputId": "efc46aa5-d287-423c-b8c6-e267a230d43a"
   },
   "outputs": [
    {
     "name": "stdout",
     "output_type": "stream",
     "text": [
      "The accuracy score achieved using KNN is: 58.19 %\n"
     ]
    }
   ],
   "source": [
    "score_knn = round(accuracy_score(Y_pred_knn,Y_test)*100,2)\n",
    "\n",
    "print(\"The accuracy score achieved using KNN is: \"+str(score_knn)+\" %\")"
   ]
  },
  {
   "cell_type": "code",
   "execution_count": 76,
   "id": "34aff0f1",
   "metadata": {
    "scrolled": true
   },
   "outputs": [
    {
     "name": "stdout",
     "output_type": "stream",
     "text": [
      "[[32537 15167]\n",
      " [17621 13098]]\n",
      "              precision    recall  f1-score   support\n",
      "\n",
      "           0       0.65      0.68      0.66     47704\n",
      "           1       0.46      0.43      0.44     30719\n",
      "\n",
      "    accuracy                           0.58     78423\n",
      "   macro avg       0.56      0.55      0.55     78423\n",
      "weighted avg       0.58      0.58      0.58     78423\n",
      "\n"
     ]
    }
   ],
   "source": [
    "cm = confusion_matrix(Y_test, Y_pred_knn)\n",
    "report = classification_report(Y_test, Y_pred_knn)\n",
    "print(cm)\n",
    "print(report)"
   ]
  },
  {
   "cell_type": "code",
   "execution_count": 77,
   "id": "0b7a5b54",
   "metadata": {},
   "outputs": [
    {
     "name": "stdout",
     "output_type": "stream",
     "text": [
      "Precision Score :  0.5819083687183607\n"
     ]
    }
   ],
   "source": [
    "print(\"Precision Score : \",precision_score(Y_test,Y_pred_knn, \n",
    "                                           pos_label='positive',\n",
    "                                           average='micro'))"
   ]
  },
  {
   "cell_type": "code",
   "execution_count": 78,
   "id": "d82ab567",
   "metadata": {},
   "outputs": [
    {
     "name": "stdout",
     "output_type": "stream",
     "text": [
      "Recall Score :  0.5819083687183607\n"
     ]
    }
   ],
   "source": [
    "print(\"Recall Score : \",recall_score(Y_test,Y_pred_knn, \n",
    "                                           pos_label='positive',\n",
    "                                           average='micro'))"
   ]
  },
  {
   "cell_type": "code",
   "execution_count": 79,
   "id": "d8861bf9",
   "metadata": {},
   "outputs": [
    {
     "name": "stdout",
     "output_type": "stream",
     "text": [
      "0.5819083687183607\n"
     ]
    }
   ],
   "source": [
    "print(f1_score(Y_test,Y_pred_knn,average='micro'))"
   ]
  },
  {
   "cell_type": "code",
   "execution_count": 80,
   "id": "6a4a3ebc",
   "metadata": {},
   "outputs": [
    {
     "data": {
      "image/png": "[encoded data removed]",
      "text/plain": [
       "<Figure size 432x288 with 1 Axes>"
      ]
     },
     "metadata": {
      "needs_background": "light"
     },
     "output_type": "display_data"
    }
   ],
   "source": [
    "###Roc curve\n",
    "fpr, tpr,_=roc_curve(knn.predict(X_train),Y_train,drop_intermediate=False)\n",
    "import matplotlib.pyplot as plt\n",
    "plt.figure()\n",
    "plt.plot(fpr, tpr, color='red',\n",
    "         lw=2, label='ROC curve')\n",
    "plt.plot([0, 1], [0, 1], color='blue', lw=2, linestyle='--')\n",
    "plt.xlabel('False Positive ')\n",
    "plt.ylabel('True Positive ')\n",
    "plt.title('ROC curve')\n",
    "plt.show()"
   ]
  },
  {
   "cell_type": "code",
   "execution_count": 81,
   "id": "e6c2662f",
   "metadata": {},
   "outputs": [
    {
     "data": {
      "text/plain": [
       "0.5584091023680574"
      ]
     },
     "execution_count": 81,
     "metadata": {},
     "output_type": "execute_result"
    }
   ],
   "source": [
    "roc_auc_score(knn.predict(X_train),Y_train)"
   ]
  },
  {
   "cell_type": "markdown",
   "id": "aadfe5ab",
   "metadata": {
    "id": "aadfe5ab"
   },
   "source": [
    "# Naive Bayes"
   ]
  },
  {
   "cell_type": "code",
   "execution_count": 82,
   "id": "ea59c199",
   "metadata": {
    "id": "ea59c199"
   },
   "outputs": [],
   "source": [
    "from sklearn.naive_bayes import GaussianNB\n",
    "\n",
    "nb = GaussianNB()\n",
    "\n",
    "nb.fit(X_train,Y_train)\n",
    "\n",
    "Y_pred_nb = nb.predict(X_test)"
   ]
  },
  {
   "cell_type": "code",
   "execution_count": 83,
   "id": "88075b4a",
   "metadata": {
    "id": "88075b4a",
    "outputId": "2238ba80-972c-4305-b5a6-5ee5a246fe3f"
   },
   "outputs": [
    {
     "data": {
      "text/plain": [
       "(78423,)"
      ]
     },
     "execution_count": 83,
     "metadata": {},
     "output_type": "execute_result"
    }
   ],
   "source": [
    "Y_pred_nb.shape"
   ]
  },
  {
   "cell_type": "code",
   "execution_count": 84,
   "id": "6f3b13f7",
   "metadata": {
    "id": "6f3b13f7",
    "outputId": "9ae0cdda-f6dc-4c3b-d459-f4d5741dcb8c"
   },
   "outputs": [
    {
     "name": "stdout",
     "output_type": "stream",
     "text": [
      "The accuracy score achieved using Naive Bayes is: 63.1 %\n"
     ]
    }
   ],
   "source": [
    "score_nb = round(accuracy_score(Y_pred_nb,Y_test)*100,2)\n",
    "\n",
    "print(\"The accuracy score achieved using Naive Bayes is: \"+str(score_nb)+\" %\")"
   ]
  },
  {
   "cell_type": "code",
   "execution_count": 85,
   "id": "1175f1c6",
   "metadata": {},
   "outputs": [
    {
     "name": "stdout",
     "output_type": "stream",
     "text": [
      "[[38989  8715]\n",
      " [20225 10494]]\n",
      "              precision    recall  f1-score   support\n",
      "\n",
      "           0       0.66      0.82      0.73     47704\n",
      "           1       0.55      0.34      0.42     30719\n",
      "\n",
      "    accuracy                           0.63     78423\n",
      "   macro avg       0.60      0.58      0.57     78423\n",
      "weighted avg       0.61      0.63      0.61     78423\n",
      "\n"
     ]
    }
   ],
   "source": [
    "cm = confusion_matrix(Y_test, Y_pred_nb)\n",
    "report = classification_report(Y_test, Y_pred_nb)\n",
    "print(cm)\n",
    "print(report)"
   ]
  },
  {
   "cell_type": "code",
   "execution_count": 86,
   "id": "090d3b29",
   "metadata": {},
   "outputs": [
    {
     "name": "stdout",
     "output_type": "stream",
     "text": [
      "Precision Score :  0.6309756066460095\n"
     ]
    }
   ],
   "source": [
    "print(\"Precision Score : \",precision_score(Y_test,Y_pred_nb, \n",
    "                                           pos_label='positive',\n",
    "                                           average='micro'))"
   ]
  },
  {
   "cell_type": "code",
   "execution_count": 87,
   "id": "8cd61205",
   "metadata": {},
   "outputs": [
    {
     "name": "stdout",
     "output_type": "stream",
     "text": [
      "Recall Score :  0.6309756066460095\n"
     ]
    }
   ],
   "source": [
    "print(\"Recall Score : \",recall_score(Y_test,Y_pred_nb, \n",
    "                                           pos_label='positive',\n",
    "                                           average='micro'))"
   ]
  },
  {
   "cell_type": "code",
   "execution_count": 88,
   "id": "a4df6212",
   "metadata": {},
   "outputs": [
    {
     "name": "stdout",
     "output_type": "stream",
     "text": [
      "0.6309756066460095\n"
     ]
    }
   ],
   "source": [
    "print(f1_score(Y_test,Y_pred_nb,average='micro'))"
   ]
  },
  {
   "cell_type": "code",
   "execution_count": 89,
   "id": "e2e6eb65",
   "metadata": {},
   "outputs": [
    {
     "data": {
      "image/png": "[encoded data removed]",
      "text/plain": [
       "<Figure size 432x288 with 1 Axes>"
      ]
     },
     "metadata": {
      "needs_background": "light"
     },
     "output_type": "display_data"
    }
   ],
   "source": [
    "###Roc curve\n",
    "fpr, tpr,_=roc_curve(nb.predict(X_train),Y_train,drop_intermediate=False)\n",
    "import matplotlib.pyplot as plt\n",
    "plt.figure()\n",
    "plt.plot(fpr, tpr, color='red',\n",
    "         lw=2, label='ROC curve')\n",
    "plt.plot([0, 1], [0, 1], color='blue', lw=2, linestyle='--')\n",
    "plt.xlabel('False Positive ')\n",
    "plt.ylabel('True Positive ')\n",
    "plt.title('ROC curve')\n",
    "plt.show()"
   ]
  },
  {
   "cell_type": "code",
   "execution_count": 90,
   "id": "e2dbed0c",
   "metadata": {},
   "outputs": [
    {
     "data": {
      "text/plain": [
       "0.6081543284785879"
      ]
     },
     "execution_count": 90,
     "metadata": {},
     "output_type": "execute_result"
    }
   ],
   "source": [
    "roc_auc_score(nb.predict(X_train),Y_train)"
   ]
  },
  {
   "cell_type": "markdown",
   "id": "bea83a7b",
   "metadata": {
    "id": "bea83a7b"
   },
   "source": [
    "# Decision Tree"
   ]
  },
  {
   "cell_type": "code",
   "execution_count": 91,
   "id": "bbdfa40f",
   "metadata": {
    "id": "bbdfa40f"
   },
   "outputs": [],
   "source": [
    "from sklearn.tree import DecisionTreeClassifier\n",
    "\n",
    "max_accuracy = 0\n",
    "\n",
    "\n",
    "for x in range(200):\n",
    "    dt = DecisionTreeClassifier(random_state=x)\n",
    "    dt.fit(X_train,Y_train)\n",
    "    Y_pred_dt = dt.predict(X_test)\n",
    "    current_accuracy = round(accuracy_score(Y_pred_dt,Y_test)*100,2)\n",
    "    if(current_accuracy>max_accuracy):\n",
    "        max_accuracy = current_accuracy\n",
    "        best_x = x\n",
    "        \n",
    "#print(max_accuracy)\n",
    "#print(best_x)\n",
    "\n",
    "\n",
    "dt = DecisionTreeClassifier(random_state=best_x)\n",
    "dt.fit(X_train,Y_train)\n",
    "Y_pred_dt = dt.predict(X_test)"
   ]
  },
  {
   "cell_type": "code",
   "execution_count": 92,
   "id": "3d7f8876",
   "metadata": {
    "id": "3d7f8876",
    "outputId": "a7738a7b-edd5-47fe-8a5e-de7e4758e494"
   },
   "outputs": [
    {
     "name": "stdout",
     "output_type": "stream",
     "text": [
      "(78423,)\n"
     ]
    }
   ],
   "source": [
    "print(Y_pred_dt.shape)"
   ]
  },
  {
   "cell_type": "code",
   "execution_count": 93,
   "id": "d529f6f4",
   "metadata": {
    "id": "d529f6f4",
    "outputId": "1c9c9560-aef6-4b4e-a968-a85369c281d1"
   },
   "outputs": [
    {
     "name": "stdout",
     "output_type": "stream",
     "text": [
      "The accuracy score achieved using Decision Tree is: 64.35 %\n"
     ]
    }
   ],
   "source": [
    "score_dt = round(accuracy_score(Y_pred_dt,Y_test)*100,2)\n",
    "\n",
    "print(\"The accuracy score achieved using Decision Tree is: \"+str(score_dt)+\" %\")"
   ]
  },
  {
   "cell_type": "code",
   "execution_count": 94,
   "id": "32fbd479",
   "metadata": {},
   "outputs": [
    {
     "name": "stdout",
     "output_type": "stream",
     "text": [
      "[[42662  5042]\n",
      " [22912  7807]]\n",
      "              precision    recall  f1-score   support\n",
      "\n",
      "           0       0.65      0.89      0.75     47704\n",
      "           1       0.61      0.25      0.36     30719\n",
      "\n",
      "    accuracy                           0.64     78423\n",
      "   macro avg       0.63      0.57      0.56     78423\n",
      "weighted avg       0.63      0.64      0.60     78423\n",
      "\n"
     ]
    }
   ],
   "source": [
    "cm = confusion_matrix(Y_test, Y_pred_dt)\n",
    "report = classification_report(Y_test, Y_pred_dt)\n",
    "print(cm)\n",
    "print(report)"
   ]
  },
  {
   "cell_type": "code",
   "execution_count": 95,
   "id": "1a87577d",
   "metadata": {},
   "outputs": [
    {
     "name": "stdout",
     "output_type": "stream",
     "text": [
      "Precision Score :  0.6435484487969091\n"
     ]
    }
   ],
   "source": [
    "print(\"Precision Score : \",precision_score(Y_test,Y_pred_dt, \n",
    "                                           pos_label='positive',\n",
    "                                           average='micro'))"
   ]
  },
  {
   "cell_type": "code",
   "execution_count": 96,
   "id": "ef5c3703",
   "metadata": {},
   "outputs": [
    {
     "name": "stdout",
     "output_type": "stream",
     "text": [
      "Recall Score :  0.6435484487969091\n"
     ]
    }
   ],
   "source": [
    "print(\"Recall Score : \",recall_score(Y_test,Y_pred_dt, \n",
    "                                           pos_label='positive',\n",
    "                                           average='micro'))"
   ]
  },
  {
   "cell_type": "code",
   "execution_count": 97,
   "id": "ea274c7a",
   "metadata": {},
   "outputs": [
    {
     "name": "stdout",
     "output_type": "stream",
     "text": [
      "0.6435484487969091\n"
     ]
    }
   ],
   "source": [
    "print(f1_score(Y_test,Y_pred_dt,average='micro'))"
   ]
  },
  {
   "cell_type": "code",
   "execution_count": 98,
   "id": "a8e57425",
   "metadata": {},
   "outputs": [
    {
     "data": {
      "image/png": "[encoded data removed]",
      "text/plain": [
       "<Figure size 432x288 with 1 Axes>"
      ]
     },
     "metadata": {
      "needs_background": "light"
     },
     "output_type": "display_data"
    }
   ],
   "source": [
    "###Roc curve\n",
    "fpr, tpr,_=roc_curve(dt.predict(X_train),Y_train,drop_intermediate=False)\n",
    "import matplotlib.pyplot as plt\n",
    "plt.figure()\n",
    "plt.plot(fpr, tpr, color='red',\n",
    "         lw=2, label='ROC curve')\n",
    "plt.plot([0, 1], [0, 1], color='blue', lw=2, linestyle='--')\n",
    "plt.xlabel('False Positive ')\n",
    "plt.ylabel('True Positive ')\n",
    "plt.title('ROC curve')\n",
    "plt.show()"
   ]
  },
  {
   "cell_type": "code",
   "execution_count": 99,
   "id": "87bb482e",
   "metadata": {},
   "outputs": [
    {
     "data": {
      "text/plain": [
       "0.6396683010217996"
      ]
     },
     "execution_count": 99,
     "metadata": {},
     "output_type": "execute_result"
    }
   ],
   "source": [
    "roc_auc_score(dt.predict(X_train),Y_train)"
   ]
  },
  {
   "cell_type": "markdown",
   "id": "f3468c10",
   "metadata": {
    "id": "f3468c10"
   },
   "source": [
    "# Random Forest"
   ]
  },
  {
   "cell_type": "code",
   "execution_count": 100,
   "id": "562ba1c1",
   "metadata": {
    "id": "562ba1c1",
    "outputId": "d4c5b431-c949-499d-b072-2bfda5f346bc"
   },
   "outputs": [
    {
     "name": "stdout",
     "output_type": "stream",
     "text": [
      "The accuracy score achieved using Random Forest is: 64.36%\n"
     ]
    },
    {
     "data": {
      "image/png": "[encoded data removed]",
      "text/plain": [
       "<Figure size 432x288 with 1 Axes>"
      ]
     },
     "metadata": {
      "needs_background": "light"
     },
     "output_type": "display_data"
    }
   ],
   "source": [
    "# Random Forest\n",
    "from sklearn.ensemble import RandomForestClassifier\n",
    "\n",
    "randomforest =  RandomForestClassifier(n_estimators = 1000, criterion = 'entropy', random_state = 0)\n",
    "randomforest.fit(X_train, Y_train)\n",
    "x = pd.Series(Y_test, name=\"Test Data\")\n",
    "ax = sns.distplot(x)\n",
    "Y_pred_rf = randomforest.predict(X_test)\n",
    "acc_logreg_rf = round(accuracy_score(Y_pred_rf, Y_test) * 100, 2)\n",
    "print(\"The accuracy score achieved using Random Forest is: \" +str(acc_logreg_rf)+ \"%\")"
   ]
  },
  {
   "cell_type": "code",
   "execution_count": 101,
   "id": "07ef0782",
   "metadata": {
    "id": "07ef0782",
    "outputId": "dfb12f22-e031-4b10-9d89-5d774c4fb5e4"
   },
   "outputs": [
    {
     "data": {
      "text/plain": [
       "RandomForestClassifier(max_depth=10, max_features=4, n_estimators=300)"
      ]
     },
     "execution_count": 101,
     "metadata": {},
     "output_type": "execute_result"
    }
   ],
   "source": [
    "from sklearn import ensemble\n",
    "from sklearn.metrics import confusion_matrix\n",
    "R_forest= ensemble.RandomForestClassifier(n_estimators=300, max_features=4, max_depth=10)\n",
    "R_forest.fit(X_train, Y_train)"
   ]
  },
  {
   "cell_type": "code",
   "execution_count": 102,
   "id": "c8254504",
   "metadata": {
    "id": "c8254504",
    "outputId": "806a7d9a-3c8a-4b81-9514-687225bcd7df"
   },
   "outputs": [
    {
     "name": "stdout",
     "output_type": "stream",
     "text": [
      "Random Forest Accuracy on Train data =  0.65\n"
     ]
    }
   ],
   "source": [
    "# Accuracy on train data \n",
    "forest_predict1=R_forest.predict(X_train)\n",
    "cm1 = confusion_matrix(Y_train, forest_predict1)\n",
    "accuracy_train=(cm1[0,0]+cm1[1,1])/sum(sum(cm1))\n",
    "print(\"Random Forest Accuracy on Train data = \", round(accuracy_train,2))"
   ]
  },
  {
   "cell_type": "code",
   "execution_count": 103,
   "id": "42c4e846",
   "metadata": {
    "id": "42c4e846",
    "outputId": "36a9118d-0020-4b10-d26b-3d330373d9e4"
   },
   "outputs": [
    {
     "name": "stdout",
     "output_type": "stream",
     "text": [
      "Random Forest Accuracy on Test data =  0.64\n"
     ]
    }
   ],
   "source": [
    "# Accuracy on test data \n",
    "forest_predict2=R_forest.predict(X_test)\n",
    "cm2 = confusion_matrix(Y_test, forest_predict2)\n",
    "accuracy_test=(cm2[0,0]+cm2[1,1])/sum(sum(cm2))\n",
    "print(\"Random Forest Accuracy on Test data = \", round(accuracy_test,2))"
   ]
  },
  {
   "cell_type": "code",
   "execution_count": 104,
   "id": "dba5613e",
   "metadata": {},
   "outputs": [
    {
     "name": "stdout",
     "output_type": "stream",
     "text": [
      "[[42556  5148]\n",
      " [22800  7919]]\n",
      "              precision    recall  f1-score   support\n",
      "\n",
      "           0       0.65      0.89      0.75     47704\n",
      "           1       0.61      0.26      0.36     30719\n",
      "\n",
      "    accuracy                           0.64     78423\n",
      "   macro avg       0.63      0.57      0.56     78423\n",
      "weighted avg       0.63      0.64      0.60     78423\n",
      "\n"
     ]
    }
   ],
   "source": [
    "cm = confusion_matrix(Y_test, Y_pred_rf)\n",
    "report = classification_report(Y_test, Y_pred_rf)\n",
    "print(cm)\n",
    "print(report)"
   ]
  },
  {
   "cell_type": "code",
   "execution_count": 105,
   "id": "24b24974",
   "metadata": {},
   "outputs": [
    {
     "name": "stdout",
     "output_type": "stream",
     "text": [
      "Precision Score :  0.6436249569641559\n"
     ]
    }
   ],
   "source": [
    "print(\"Precision Score : \",precision_score(Y_test,Y_pred_rf, \n",
    "                                           pos_label='positive',\n",
    "                                           average='micro'))"
   ]
  },
  {
   "cell_type": "code",
   "execution_count": 106,
   "id": "dbfed7cb",
   "metadata": {},
   "outputs": [
    {
     "name": "stdout",
     "output_type": "stream",
     "text": [
      "Recall Score :  0.6436249569641559\n"
     ]
    }
   ],
   "source": [
    "print(\"Recall Score : \",recall_score(Y_test,Y_pred_rf, \n",
    "                                           pos_label='positive',\n",
    "                                           average='micro'))"
   ]
  },
  {
   "cell_type": "code",
   "execution_count": 107,
   "id": "20231265",
   "metadata": {},
   "outputs": [
    {
     "name": "stdout",
     "output_type": "stream",
     "text": [
      "0.6436249569641559\n"
     ]
    }
   ],
   "source": [
    "print(f1_score(Y_test,Y_pred_rf,average='micro'))"
   ]
  },
  {
   "cell_type": "code",
   "execution_count": 108,
   "id": "0a3b694c",
   "metadata": {},
   "outputs": [
    {
     "data": {
      "image/png": "[encoded data removed]",
      "text/plain": [
       "<Figure size 432x288 with 1 Axes>"
      ]
     },
     "metadata": {
      "needs_background": "light"
     },
     "output_type": "display_data"
    }
   ],
   "source": [
    "###Roc curve\n",
    "fpr, tpr,_=roc_curve(randomforest.predict(X_train),Y_train,drop_intermediate=False)\n",
    "import matplotlib.pyplot as plt\n",
    "plt.figure()\n",
    "plt.plot(fpr, tpr, color='red',\n",
    "         lw=2, label='ROC curve')\n",
    "plt.plot([0, 1], [0, 1], color='blue', lw=2, linestyle='--')\n",
    "plt.xlabel('False Positive ')\n",
    "plt.ylabel('True Positive ')\n",
    "plt.title('ROC curve')\n",
    "plt.show()"
   ]
  },
  {
   "cell_type": "code",
   "execution_count": 109,
   "id": "dd9899f5",
   "metadata": {},
   "outputs": [
    {
     "data": {
      "text/plain": [
       "0.6389343344122194"
      ]
     },
     "execution_count": 109,
     "metadata": {},
     "output_type": "execute_result"
    }
   ],
   "source": [
    "roc_auc_score(randomforest.predict(X_train),Y_train)"
   ]
  },
  {
   "cell_type": "markdown",
   "id": "79760cdb",
   "metadata": {
    "id": "79760cdb"
   },
   "source": [
    "# SVM (support-vector machines)"
   ]
  },
  {
   "cell_type": "code",
   "execution_count": 110,
   "id": "03f17024",
   "metadata": {
    "id": "03f17024",
    "outputId": "749da766-47e8-42d5-ee04-eec914dec4be",
    "scrolled": true
   },
   "outputs": [
    {
     "name": "stdout",
     "output_type": "stream",
     "text": [
      "The accuracy score achieved using SVM is: 64.1%\n"
     ]
    },
    {
     "data": {
      "image/png": "[encoded data removed]",
      "text/plain": [
       "<Figure size 432x288 with 1 Axes>"
      ]
     },
     "metadata": {
      "needs_background": "light"
     },
     "output_type": "display_data"
    }
   ],
   "source": [
    "#Linear SVC\n",
    "from sklearn import svm\n",
    "from sklearn.svm import LinearSVC\n",
    "\n",
    "linear_svc = LinearSVC()\n",
    "linear_svc.fit(X_train, Y_train)\n",
    "x = pd.Series(Y_test, name=\"Test Data\")\n",
    "ax = sns.distplot(x)\n",
    "Y_pred_svm = linear_svc.predict(X_test)\n",
    "acc_logreg_svm = round(accuracy_score(Y_pred_svm, Y_test) * 100, 2)\n",
    "print(\"The accuracy score achieved using SVM is: \" +str(acc_logreg_svm)+ \"%\")"
   ]
  },
  {
   "cell_type": "code",
   "execution_count": 111,
   "id": "8319df6d",
   "metadata": {},
   "outputs": [
    {
     "name": "stdout",
     "output_type": "stream",
     "text": [
      "[[42633  5071]\n",
      " [23082  7637]]\n",
      "              precision    recall  f1-score   support\n",
      "\n",
      "           0       0.65      0.89      0.75     47704\n",
      "           1       0.60      0.25      0.35     30719\n",
      "\n",
      "    accuracy                           0.64     78423\n",
      "   macro avg       0.62      0.57      0.55     78423\n",
      "weighted avg       0.63      0.64      0.60     78423\n",
      "\n"
     ]
    }
   ],
   "source": [
    "cm = confusion_matrix(Y_test, Y_pred_svm)\n",
    "report = classification_report(Y_test, Y_pred_svm)\n",
    "print(cm)\n",
    "print(report)"
   ]
  },
  {
   "cell_type": "code",
   "execution_count": 112,
   "id": "f05699b1",
   "metadata": {},
   "outputs": [
    {
     "name": "stdout",
     "output_type": "stream",
     "text": [
      "Precision Score :  0.6410109279165551\n"
     ]
    }
   ],
   "source": [
    "print(\"Precision Score : \",precision_score(Y_test,Y_pred_svm, \n",
    "                                           pos_label='positive',\n",
    "                                           average='micro'))"
   ]
  },
  {
   "cell_type": "code",
   "execution_count": 113,
   "id": "938383f1",
   "metadata": {},
   "outputs": [
    {
     "name": "stdout",
     "output_type": "stream",
     "text": [
      "Recall Score :  0.6410109279165551\n"
     ]
    }
   ],
   "source": [
    "print(\"Recall Score : \",recall_score(Y_test,Y_pred_svm, \n",
    "                                           pos_label='positive',\n",
    "                                           average='micro'))"
   ]
  },
  {
   "cell_type": "code",
   "execution_count": 114,
   "id": "6f73b5e3",
   "metadata": {},
   "outputs": [
    {
     "name": "stdout",
     "output_type": "stream",
     "text": [
      "0.6410109279165551\n"
     ]
    }
   ],
   "source": [
    "print(f1_score(Y_test,Y_pred_svm,average='micro'))"
   ]
  },
  {
   "cell_type": "code",
   "execution_count": 115,
   "id": "e348aece",
   "metadata": {},
   "outputs": [
    {
     "data": {
      "image/png": "[encoded data removed]",
      "text/plain": [
       "<Figure size 432x288 with 1 Axes>"
      ]
     },
     "metadata": {
      "needs_background": "light"
     },
     "output_type": "display_data"
    }
   ],
   "source": [
    "###Roc curve\n",
    "fpr, tpr,_=roc_curve(linear_svc.predict(X_train),Y_train,drop_intermediate=False)\n",
    "import matplotlib.pyplot as plt\n",
    "plt.figure()\n",
    "plt.plot(fpr, tpr, color='red',\n",
    "         lw=2, label='ROC curve')\n",
    "plt.plot([0, 1], [0, 1], color='blue', lw=2, linestyle='--')\n",
    "plt.xlabel('False Positive ')\n",
    "plt.ylabel('True Positive ')\n",
    "plt.title('ROC curve')\n",
    "plt.show()"
   ]
  },
  {
   "cell_type": "code",
   "execution_count": 116,
   "id": "f45aa401",
   "metadata": {},
   "outputs": [
    {
     "data": {
      "text/plain": [
       "0.63193110529954"
      ]
     },
     "execution_count": 116,
     "metadata": {},
     "output_type": "execute_result"
    }
   ],
   "source": [
    "roc_auc_score(linear_svc.predict(X_train),Y_train)"
   ]
  },
  {
   "cell_type": "markdown",
   "id": "3904e494",
   "metadata": {
    "id": "3904e494"
   },
   "source": [
    "# Neural Network using Multilayer Perceptron "
   ]
  },
  {
   "cell_type": "code",
   "execution_count": 117,
   "id": "21e9c9f4",
   "metadata": {
    "id": "21e9c9f4"
   },
   "outputs": [],
   "source": [
    "import keras\n",
    "from keras.models import Sequential\n",
    "from keras.layers import Dense\n",
    "from tensorflow.keras.optimizers import Adam"
   ]
  },
  {
   "cell_type": "code",
   "execution_count": 118,
   "id": "22049f39",
   "metadata": {
    "id": "22049f39"
   },
   "outputs": [],
   "source": [
    "model = Sequential()\n",
    "# Add the first hidden layer\n",
    "model.add(Dense(32, activation='relu', input_dim=5))\n",
    "\n",
    "# Add the second hidden layer\n",
    "model.add(Dense(16, activation='relu'))\n",
    "\n",
    "# Add the output layer\n",
    "model.add(Dense(1, activation='sigmoid'))\n"
   ]
  },
  {
   "cell_type": "code",
   "execution_count": 119,
   "id": "701e6988",
   "metadata": {
    "colab": {
     "base_uri": "https://localhost:8080/"
    },
    "id": "701e6988",
    "outputId": "a9cae4f7-86ce-4435-e04c-d32b21616f12"
   },
   "outputs": [
    {
     "name": "stdout",
     "output_type": "stream",
     "text": [
      "Model: \"sequential\"\n",
      "_________________________________________________________________\n",
      "Layer (type)                 Output Shape              Param #   \n",
      "=================================================================\n",
      "dense (Dense)                (None, 32)                192       \n",
      "_________________________________________________________________\n",
      "dense_1 (Dense)              (None, 16)                528       \n",
      "_________________________________________________________________\n",
      "dense_2 (Dense)              (None, 1)                 17        \n",
      "=================================================================\n",
      "Total params: 737\n",
      "Trainable params: 737\n",
      "Non-trainable params: 0\n",
      "_________________________________________________________________\n",
      "None\n"
     ]
    }
   ],
   "source": [
    "print(model.summary())"
   ]
  },
  {
   "cell_type": "code",
   "execution_count": 120,
   "id": "702536e1",
   "metadata": {
    "id": "702536e1"
   },
   "outputs": [],
   "source": [
    "# Model Compilation \n",
    "\n",
    "model.compile(optimizer='adam',\n",
    "       loss='binary_crossentropy',\n",
    "       metrics=['accuracy'])"
   ]
  },
  {
   "cell_type": "code",
   "execution_count": 121,
   "id": "d79635e1",
   "metadata": {
    "colab": {
     "base_uri": "https://localhost:8080/",
     "height": 374
    },
    "id": "d79635e1",
    "outputId": "9722d016-2417-454f-d09e-08a7c740e56c"
   },
   "outputs": [
    {
     "name": "stdout",
     "output_type": "stream",
     "text": [
      "Epoch 1/10\n",
      "5719/5719 [==============================] - 7s 1ms/step - loss: 0.6377 - accuracy: 0.6481\n",
      "Epoch 2/10\n",
      "5719/5719 [==============================] - 7s 1ms/step - loss: 0.6369 - accuracy: 0.6493\n",
      "Epoch 3/10\n",
      "5719/5719 [==============================] - 7s 1ms/step - loss: 0.6366 - accuracy: 0.6492\n",
      "Epoch 4/10\n",
      "5719/5719 [==============================] - 7s 1ms/step - loss: 0.6366 - accuracy: 0.6495\n",
      "Epoch 5/10\n",
      "5719/5719 [==============================] - 7s 1ms/step - loss: 0.6364 - accuracy: 0.6500\n",
      "Epoch 6/10\n",
      "5719/5719 [==============================] - 7s 1ms/step - loss: 0.6363 - accuracy: 0.6500\n",
      "Epoch 7/10\n",
      "5719/5719 [==============================] - 7s 1ms/step - loss: 0.6363 - accuracy: 0.6501\n",
      "Epoch 8/10\n",
      "5719/5719 [==============================] - 7s 1ms/step - loss: 0.6363 - accuracy: 0.6497\n",
      "Epoch 9/10\n",
      "5719/5719 [==============================] - 7s 1ms/step - loss: 0.6363 - accuracy: 0.6497\n",
      "Epoch 10/10\n",
      "5719/5719 [==============================] - 7s 1ms/step - loss: 0.6363 - accuracy: 0.6499\n"
     ]
    },
    {
     "data": {
      "text/plain": [
       "<keras.callbacks.History at 0x22b44bbd280>"
      ]
     },
     "execution_count": 121,
     "metadata": {},
     "output_type": "execute_result"
    }
   ],
   "source": [
    "# Train the model for 10 epochs\n",
    "\n",
    "model.fit(X_train, Y_train, epochs=10)"
   ]
  },
  {
   "cell_type": "code",
   "execution_count": 122,
   "id": "29c9dbf6",
   "metadata": {
    "id": "29c9dbf6"
   },
   "outputs": [
    {
     "name": "stdout",
     "output_type": "stream",
     "text": [
      "5719/5719 [==============================] - 6s 1ms/step - loss: 0.6361 - accuracy: 0.6502\n",
      "Training Accuracy: 65.02%\n",
      "\n",
      "2451/2451 [==============================] - 3s 1ms/step - loss: 0.6397 - accuracy: 0.6433: 0s - loss: 0.6394 \n",
      "Testing Accuracy: 64.33% \n",
      "\n"
     ]
    }
   ],
   "source": [
    "# Testing accuracy\n",
    "\n",
    "scores_nn_train = model.evaluate(X_train, Y_train)\n",
    "print(\"Training Accuracy: %.2f%%\\n\" % (scores_nn_train[1]*100))\n",
    "\n",
    "scores_nn_test = model.evaluate(X_test, Y_test)\n",
    "print(\"Testing Accuracy: %.2f%% \\n\" % (scores_nn_test[1]*100))"
   ]
  },
  {
   "cell_type": "code",
   "execution_count": 123,
   "id": "8d5fcf97",
   "metadata": {},
   "outputs": [],
   "source": [
    "Y_pred_nn = model.predict(X_test)"
   ]
  },
  {
   "cell_type": "code",
   "execution_count": 124,
   "id": "fc7e6cb8",
   "metadata": {},
   "outputs": [
    {
     "data": {
      "text/plain": [
       "(78423, 1)"
      ]
     },
     "execution_count": 124,
     "metadata": {},
     "output_type": "execute_result"
    }
   ],
   "source": [
    "Y_pred_nn.shape\n"
   ]
  },
  {
   "cell_type": "code",
   "execution_count": 125,
   "id": "ced7c8d9",
   "metadata": {},
   "outputs": [],
   "source": [
    "rounded = [round(x[0]) for x in Y_pred_nn]\n",
    "\n",
    "Y_pred_nn = rounded"
   ]
  },
  {
   "cell_type": "code",
   "execution_count": 126,
   "id": "b7d0c67d",
   "metadata": {},
   "outputs": [
    {
     "name": "stdout",
     "output_type": "stream",
     "text": [
      "The accuracy score achieved using Neural Network is: 64.33%\n"
     ]
    }
   ],
   "source": [
    "acc_logreg_nn = round(accuracy_score(Y_pred_nn, Y_test) * 100, 2)\n",
    "print(\"The accuracy score achieved using Neural Network is: \" +str(acc_logreg_nn)+ \"%\")"
   ]
  },
  {
   "cell_type": "code",
   "execution_count": 127,
   "id": "ea29a2d1",
   "metadata": {
    "scrolled": true
   },
   "outputs": [
    {
     "data": {
      "text/plain": [
       "Text(33.0, 0.5, 'Actual')"
      ]
     },
     "execution_count": 127,
     "metadata": {},
     "output_type": "execute_result"
    },
    {
     "data": {
      "image/png": "[encoded data removed]",
      "text/plain": [
       "<Figure size 432x288 with 1 Axes>"
      ]
     },
     "metadata": {
      "needs_background": "light"
     },
     "output_type": "display_data"
    }
   ],
   "source": [
    "# Confusion matrix\n",
    "\n",
    "Y_test_pred = (model.predict(X_test) > 0.5).astype(\"int8\")\n",
    "c_matrix = confusion_matrix(Y_test, Y_test_pred)\n",
    "ax = sns.heatmap(c_matrix, annot=True,\n",
    "                 xticklabels=['Negative', 'Positive'],\n",
    "                 yticklabels=['Negative', 'Positive'],\n",
    "                 cbar=False, cmap='Blues')\n",
    "ax.set_xlabel(\"Prediction\")\n",
    "ax.set_ylabel(\"Actual\")"
   ]
  },
  {
   "cell_type": "code",
   "execution_count": 128,
   "id": "458654fd",
   "metadata": {},
   "outputs": [
    {
     "name": "stdout",
     "output_type": "stream",
     "text": [
      "[[43737  3967]\n",
      " [24010  6709]]\n",
      "              precision    recall  f1-score   support\n",
      "\n",
      "           0       0.65      0.92      0.76     47704\n",
      "           1       0.63      0.22      0.32     30719\n",
      "\n",
      "    accuracy                           0.64     78423\n",
      "   macro avg       0.64      0.57      0.54     78423\n",
      "weighted avg       0.64      0.64      0.59     78423\n",
      "\n"
     ]
    }
   ],
   "source": [
    "cm = confusion_matrix(Y_test, Y_pred_nn)\n",
    "report = classification_report(Y_test, Y_pred_nn)\n",
    "print(cm)\n",
    "print(report)"
   ]
  },
  {
   "cell_type": "code",
   "execution_count": 129,
   "id": "b467ac7e",
   "metadata": {},
   "outputs": [
    {
     "name": "stdout",
     "output_type": "stream",
     "text": [
      "Precision Score :  0.6432551674891295\n"
     ]
    }
   ],
   "source": [
    "print(\"Precision Score : \",precision_score(Y_test,Y_pred_nn, \n",
    "                                           pos_label='positive',\n",
    "                                           average='micro'))"
   ]
  },
  {
   "cell_type": "code",
   "execution_count": 130,
   "id": "78de0c78",
   "metadata": {},
   "outputs": [
    {
     "name": "stdout",
     "output_type": "stream",
     "text": [
      "Recall Score :  0.6432551674891295\n"
     ]
    }
   ],
   "source": [
    "print(\"Recall Score : \",recall_score(Y_test,Y_pred_nn, \n",
    "                                           pos_label='positive',\n",
    "                                           average='micro'))"
   ]
  },
  {
   "cell_type": "code",
   "execution_count": 131,
   "id": "b05c4799",
   "metadata": {},
   "outputs": [
    {
     "name": "stdout",
     "output_type": "stream",
     "text": [
      "0.6432551674891295\n"
     ]
    }
   ],
   "source": [
    "print(f1_score(Y_test,Y_pred_nn,average='micro'))"
   ]
  },
  {
   "cell_type": "code",
   "execution_count": 132,
   "id": "9de1421b",
   "metadata": {},
   "outputs": [
    {
     "data": {
      "text/plain": [
       "Text(0, 0.5, 'True Positive Rate')"
      ]
     },
     "execution_count": 132,
     "metadata": {},
     "output_type": "execute_result"
    },
    {
     "data": {
      "image/png": "[encoded data removed]",
      "text/plain": [
       "<Figure size 432x288 with 1 Axes>"
      ]
     },
     "metadata": {
      "needs_background": "light"
     },
     "output_type": "display_data"
    }
   ],
   "source": [
    "\n",
    "Y_test_pred_probs= (model.predict(X_test) > 0.5).astype(\"int32\")\n",
    "\n",
    "FPR, TPR, _ = roc_curve(Y_test, Y_test_pred_probs)\n",
    "\n",
    "plt.plot(FPR, TPR)\n",
    "plt.plot([0,1],[0,1],'--',color = 'black')\n",
    "plt.title('ROC Curve')\n",
    "plt.xlabel('False Positive Rate')\n",
    "plt.ylabel('True Positive Rate')"
   ]
  },
  {
   "cell_type": "code",
   "execution_count": 133,
   "id": "94024102",
   "metadata": {},
   "outputs": [
    {
     "data": {
      "text/plain": [
       "0.6370060231369171"
      ]
     },
     "execution_count": 133,
     "metadata": {},
     "output_type": "execute_result"
    }
   ],
   "source": [
    "roc_auc_score(model.predict(X_test) > 0.5,Y_test)"
   ]
  },
  {
   "cell_type": "markdown",
   "id": "a8b19e78",
   "metadata": {
    "id": "a8b19e78"
   },
   "source": [
    "# Output final score of every Model"
   ]
  },
  {
   "cell_type": "code",
   "execution_count": 134,
   "id": "2ec72e52",
   "metadata": {
    "id": "2ec72e52",
    "outputId": "4f3dd01a-9d78-4c6b-87bd-cb0685f863ea"
   },
   "outputs": [
    {
     "name": "stdout",
     "output_type": "stream",
     "text": [
      "The accuracy score achieved using Logistic Regression is: 64.06 %\n",
      "The accuracy score achieved using K-Nearest Neighbors is: 58.19 %\n",
      "The accuracy score achieved using Naive Bayes is: 63.1 %\n",
      "The accuracy score achieved using Decision Tree is: 64.35 %\n",
      "The accuracy score achieved using Random Forest is: 64.36 %\n",
      "The accuracy score achieved using Support Vector Machine is: 64.1 %\n",
      "The accuracy score achieved using Neural Network is: 64.33 %\n"
     ]
    }
   ],
   "source": [
    "scores = [score_lr,score_knn,score_nb,score_dt,acc_logreg_rf,acc_logreg_svm,acc_logreg_nn]\n",
    "algorithms = [\"Logistic Regression\",\"K-Nearest Neighbors\",\"Naive Bayes\",\"Decision Tree\",\"Random Forest\",\"Support Vector Machine\",\"Neural Network\"]    \n",
    "\n",
    "for i in range(len(algorithms)):\n",
    "    print(\"The accuracy score achieved using \"+algorithms[i]+\" is: \"+str(scores[i])+\" %\")"
   ]
  },
  {
   "cell_type": "code",
   "execution_count": 135,
   "id": "6ef54ba4",
   "metadata": {
    "id": "6ef54ba4"
   },
   "outputs": [
    {
     "data": {
      "text/plain": [
       "<AxesSubplot:xlabel='Algorithms', ylabel='Accuracy score'>"
      ]
     },
     "execution_count": 135,
     "metadata": {},
     "output_type": "execute_result"
    },
    {
     "data": {
      "image/png": "[encoded data removed]",
      "text/plain": [
       "<Figure size 1080x504 with 1 Axes>"
      ]
     },
     "metadata": {},
     "output_type": "display_data"
    }
   ],
   "source": [
    "sns.set(rc={'figure.figsize':(15,7)})\n",
    "plt.xlabel(\"Algorithms\")\n",
    "plt.ylabel(\"Accuracy score\")\n",
    "sns.barplot(algorithms,scores)"
   ]
  },
  {
   "cell_type": "markdown",
   "id": "4968afbd",
   "metadata": {
    "id": "2aae1bcc"
   },
   "source": [
    "##### Random Forest has the best result compare to other algorithims. "
   ]
  }
 ],
 "metadata": {
  "colab": {
   "collapsed_sections": [
    "35ba52fb",
    "16a7a24d",
    "33db9694",
    "29f8e012",
    "ad4f5f0d",
    "963a43d8",
    "097dc33d",
    "50db0379",
    "9f6eb0cf",
    "08907e55",
    "fd29a4b6",
    "99ce22fe",
    "6981903c",
    "aadfe5ab",
    "bea83a7b",
    "f3468c10",
    "79760cdb",
    "a8b19e78"
   ],
   "name": "New Individual assignment (4) _KC.ipynb",
   "provenance": []
  },
  "kernelspec": {
   "display_name": "Python 3",
   "language": "python",
   "name": "python3"
  },
  "language_info": {
   "codemirror_mode": {
    "name": "ipython",
    "version": 3
   },
   "file_extension": ".py",
   "mimetype": "text/x-python",
   "name": "python",
   "nbconvert_exporter": "python",
   "pygments_lexer": "ipython3",
   "version": "3.8.8"
  }
 },
 "nbformat": 4,
 "nbformat_minor": 5
}
